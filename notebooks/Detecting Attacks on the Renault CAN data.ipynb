{
  "nbformat": 4,
  "nbformat_minor": 0,
  "metadata": {
    "colab": {
      "provenance": [],
      "gpuType": "T4",
      "mount_file_id": "1VKVAmLz1q8anFcW9JlqqjOxQMYpI9FqU",
      "authorship_tag": "ABX9TyNyun+3q7bZ0X8wiTC8ln6M",
      "include_colab_link": true
    },
    "kernelspec": {
      "name": "python3",
      "display_name": "Python 3"
    },
    "language_info": {
      "name": "python"
    },
    "accelerator": "GPU"
  },
  "cells": [
    {
      "cell_type": "markdown",
      "metadata": {
        "id": "view-in-github",
        "colab_type": "text"
      },
      "source": [
        "<a href=\"https://colab.research.google.com/github/akin-oladejo/can-anomaly-detection/blob/main/notebooks/Detecting%20Attacks%20on%20the%20Renault%20CAN%20data.ipynb\" target=\"_parent\"><img src=\"https://colab.research.google.com/assets/colab-badge.svg\" alt=\"Open In Colab\"/></a>"
      ]
    },
    {
      "cell_type": "markdown",
      "source": [
        "# Detecting Attacks on CAN Data"
      ],
      "metadata": {
        "id": "GEjqQciJKJKW"
      }
    },
    {
      "cell_type": "markdown",
      "source": [
        "## The Task\n",
        "The Controller Area Network (CAN) is currently the most widely-used in-vehicle networking protocol. It is a bi-directional, multi-master, serial bus that uses UTP cabling to ensure reliability in electromagnetically noisy environments. Several devices in modern vehicles communicate with each other using the CAN protocol. Some of these devices are connected to the internet, allowing external attacks in various forms such as Replay, Spoofing, Denial of Service (DOS) and so on. In this project, different methods will be employed to detect attacks on the CAN.  \n",
        "\n",
        "The methods are:\n",
        "1. Frequency-based detection\n",
        "2. Tree-based detection i.e. Isolation Forest\n",
        "3. Anomaly detection using the latent representation of normal data i.e. autoencoders\n",
        "\n",
        "Frequency-based detection is a heuristic approach; Isolation forest is a standard machine learning algorithm; the Autoencoder is a deep learning solution.\n",
        "\n"
      ],
      "metadata": {
        "id": "AU9zVsEZSiZQ"
      }
    },
    {
      "cell_type": "code",
      "execution_count": 1,
      "metadata": {
        "id": "9FAE4BqEREZu"
      },
      "outputs": [],
      "source": [
        "# Import libraries that will enable us perform this task\n",
        "\n",
        "# data analysis libs\n",
        "import pandas as pd\n",
        "import numpy as np\n",
        "\n",
        "# visualization libs\n",
        "import matplotlib.pyplot as plt\n",
        "%matplotlib inline\n",
        "import seaborn as sns\n",
        "\n",
        "# Machine learning libs\n",
        "from sklearn.preprocessing import OneHotEncoder, StandardScaler\n",
        "from sklearn.metrics import classification_report, confusion_matrix, f1_score\n",
        "from sklearn.ensemble import IsolationForest\n",
        "import torch as T\n",
        "\n",
        "# utils\n",
        "from dataclasses import dataclass\n",
        "import joblib\n",
        "from tqdm import tqdm\n",
        "from collections import Counter"
      ]
    },
    {
      "cell_type": "code",
      "source": [
        "# config\n",
        "pd.set_option('display.max_rows', 500)\n",
        "pd.set_option('display.max_columns', 500)\n",
        "pd.set_option('display.width', 1000)\n",
        "\n",
        "rs = 42 # seed for PRNG's\n",
        "T.manual_seed(rs)\n",
        "np.random.seed(rs)"
      ],
      "metadata": {
        "id": "2JqhFAR2-HAJ"
      },
      "execution_count": 2,
      "outputs": []
    },
    {
      "cell_type": "markdown",
      "source": [
        "## The Dataset\n",
        "The dataset used in this project is the **Automotive Controller Area Network (CAN) Bus Intrusion Dataset v2**. It can be found [here](https://figshare.com/articles/dataset/Automotive_Controller_Area_Network_CAN_Bus_Intrusion_Dataset/12696950). This dataset contains automotive Controller Area Network (CAN) bus data from three systems: two cars (Opel Astra and Renault Clio) and from a CAN bus prototype made by the authors of the dataset. Its purpose is to evaluate CAN bus Network Intrusion Detection Systems (NIDS). For each vehicle/system, there is a collection of log files captured from its CAN bus: normal (attack-free) data for training and testing detection algorithms, and different CAN bus attacks (Diagnostic, Fuzzing attacks, Replay attack, Suspension attack and Denial-of-Service attack).\n",
        "\n",
        "For this project, I used data from the Renault Clio. The description of the different logs and attacks can be found in ../RenaultClio/README.md"
      ],
      "metadata": {
        "id": "8y3qIvlkp1w_"
      }
    },
    {
      "cell_type": "markdown",
      "source": [
        "## Preprocessing the datasets\n",
        "For the analysis of the data that drives the following preprocessing steps, check the analysis notebook in the same directory as this notebook.\n",
        "It will be helpful to define all the functionality we need for the different approaches in a utility class, `CANUtils`.\n",
        "\n"
      ],
      "metadata": {
        "id": "7p-rPAEBI63D"
      }
    },
    {
      "cell_type": "code",
      "source": [
        "class CANUtils():\n",
        "    def __init__(self, dataset_path:str = '/content/drive/MyDrive/datasets/RenaultClio',\n",
        "                 preprocess:bool = True,\n",
        "                 preserve_timestamp = True):\n",
        "        \"\"\"Load and preprocess datasets; load standard scaler and one-hot encoder\"\"\"\n",
        "        self.dataset_path = dataset_path\n",
        "        self.preprocess = preprocess\n",
        "        self.ss_scaler = joblib.load('std_scaler.bin') # standard scaler\n",
        "        self.oh_encoder = joblib.load('oh_encoder.bin') # one-hot encoder\n",
        "\n",
        "        # load and preprocess train dataset\n",
        "        self.train = self.load_csv('training.log', generate_dummy_label=False)\n",
        "\n",
        "        # load and preprocess attack datasets, generate placeholder labels of 0 for attack and normal data\n",
        "        self.diag_X, self.diag_y = self.load_csv('diagnostic.log')\n",
        "        self.dos_X, self.dos_y = self.load_csv('dosattack.log')\n",
        "        self.fuzzing_canid_X, self.fuzzing_canid_y = self.load_csv('fuzzing_canid.log')\n",
        "        self.fuzzing_payload_X, self.fuzzing_payload_y = self.load_csv('fuzzing_payload.log')\n",
        "        self.replay_X, self.replay_y = self.load_csv('replay.log')\n",
        "        self.suspension_X, self.suspension_y = self.load_csv('suspension.log')\n",
        "\n",
        "        # now label attack data\n",
        "        self.label_anomalies()\n",
        "\n",
        "    def load_csv(self, file_name:str, generate_dummy_label:bool = True)->tuple|pd.DataFrame:\n",
        "        \"\"\"Read csv into dataframe and add headers\"\"\"\n",
        "        df = pd.read_csv(f\"{self.dataset_path}/{file_name}\",\n",
        "                           delimiter=' ',\n",
        "                           names=['timestamp', '_', 'id_and_message'])\n",
        "\n",
        "        if self.preprocess:\n",
        "            return self.prep(df, generate_dummy_label) # preprocess the df for ml\n",
        "\n",
        "        return df\n",
        "\n",
        "    def prep(self, df, generate_dummy_label)->tuple|pd.DataFrame:\n",
        "        \"\"\"Encode categorical and Numeric features; scale numeric features;\n",
        "         parse timestamp\"\"\"\n",
        "        id_and_message = df['id_and_message'].str.split('#', expand=True)\n",
        "\n",
        "        # extract CAN ID and encode\n",
        "        id = id_and_message[0].array.reshape(-1, 1) # extract the ID and reshape\n",
        "        id = self.oh_encoder.transform(id).toarray() # transform the categorical data\n",
        "\n",
        "        # extract CAN message, convert to float and scale\n",
        "        message = id_and_message[1].apply(lambda x: ' '.join(x[i:i+2] for i in range(0, len(x), 2))) # space out\n",
        "        message = message.str.split(' ', expand=True) # split message into 8 features\n",
        "        message.fillna('FF', inplace=True) # pad short messages with 00 to make 8 features\n",
        "        message = message.apply(lambda x : x.astype(str).map(lambda x : float(int(x, base=16)))) # convert hex values to float\n",
        "        message = self.ss_scaler.transform(message)\n",
        "\n",
        "        timestamp = df['timestamp'].apply(lambda x: x.strip('()')) # strip parentheses on timestamp\n",
        "        timestamp = pd.to_datetime(timestamp, unit='s') # convert epoch to datetime\n",
        "        data = pd.concat([pd.DataFrame(message), pd.DataFrame(id)], axis=1).set_index(timestamp)\n",
        "\n",
        "        # generate a label with a default class of 0. Anomalies will be labelled with the generate_labels() method\n",
        "        if generate_dummy_label:\n",
        "            dummy_label = pd.Series(np.zeros(df.shape[0], dtype='int'), index=data.index)\n",
        "            # dummy_label = pd.DataFrame(data=[df['timestamp'], np.zeros(df.shape[0], dtype='int')], index=data.index)\n",
        "            return data, dummy_label\n",
        "        else:\n",
        "            return data\n",
        "\n",
        "    def ct(self, ts):\n",
        "        \"\"\"convert epoch timestamp to datetime object\"\"\"\n",
        "        return pd.to_datetime(ts, unit='s')\n",
        "\n",
        "    def label_anomalies(self):\n",
        "        \"\"\"Label anomalies in the attack datasets using their given timestamps\"\"\"\n",
        "        self.diag_y.loc[self.ct([1508687482.406900,1508687487.866800,1508687502.575500,1508687512.499500,1508687518.669000,1508687523.374000,1508687525.644000,1508687529.981900,1508687534.287000,1508687539.609000])] = 1\n",
        "        self.fuzzing_canid_y.loc[self.ct([1508687487.890000,1508687492.956990,1508687499.119000,1508687504.279400,1508687509.908800,1508687514.807100,1508687524.537000,1508687528.251700,1508687533.801300,1508687537.851000])] = 1\n",
        "        self.fuzzing_payload_y.loc[self.ct([1508687506.038589,1508687506.048527,1508687506.058697,1508687506.068532,1508687506.078506,1508687506.089060,1508687506.098673,1508687506.108634,1508687506.118458,1508687506.129889])] = 1\n",
        "        self.replay_y.loc[self.ct(1508687499.839714):self.ct(1508687499.905626)] = 1\n",
        "        self.dos_y.loc[self.ct(1508687506.000236):self.ct(1508687515.999845)] = 1\n",
        "        self.suspension_y.loc[self.ct(1508687499.999696):self.ct(1508687510.000100)] = 1"
      ],
      "metadata": {
        "id": "LnXHvuxX5Pr_"
      },
      "execution_count": null,
      "outputs": []
    },
    {
      "cell_type": "markdown",
      "source": [
        "### Explaining the `CANUtils` class\n",
        "The `CANUtils` class contains methods to process the data into valid input for machine learning algorithms. The initialization dunder, `__init__()`, loads the standard scaler and one hot encoder files and, with the `load_csv()` method, applies them to the numeric and categorical features in each dataset respectively.  \n",
        "The `prep()` method is called after the csv files are loaded. It extracts and separates CAN ID from payload and converts the timestamps from epochs to `pd.Timestamp`, a more human-readable time format. It then returns the data and a placeholder label (an array of zeros with the same number of rows as the data).  "
      ],
      "metadata": {
        "id": "bVSAQ4bIdyTM"
      }
    },
    {
      "cell_type": "markdown",
      "source": [
        "### Labelling the anomalies\n",
        "In the documentation, the authors declared the timestamps when the various attacks occurred. The `label_anomalies()` method uses that information to change the zeros at the attack timestamps in the placeholder label to a value of 1. The attack timestamps are identified using the `ct()` method, which does the epoch-to-timestamp conversion so that the timestamps where attacks occurred can be labelled 1 correctly.\n",
        "\n",
        "Thus, the label arrays for each attack dataset contains two classes: 1 for attack messages and 0 for normal messages.\n",
        "\n",
        "This gives us the advantage of comparing predictions from the different methods and scoring them against a metric — the F1 score. The F1 score is the harmonic mean of the precision and recall of a model. It is a useful summary metric for scoring the performance of a model in predicting a class even when there are few samples of that class to predict.  "
      ],
      "metadata": {
        "id": "0NmNZQGWJPe5"
      }
    },
    {
      "cell_type": "markdown",
      "source": [
        "## A Pattern to the Three Approaches\n",
        "For uniformity, each approach will be modeled as a class that implements the following methods:\n",
        "- `__init__()`  \n",
        "While the different approaches may create different attributes and call different methods upon object initialization, the different classes initialize a common attribute: `attack_f1`. `attack_f1` is a dictionary to store the F1 scores of each model on the different attack datasets. These values are visualized using the `chart_f1()` method.\n",
        "- `fit()`  \n",
        "The different approaches follow a common principle: learn the representation of normal activity. The `fit` method learns this representation differently for each approach: for approach 1 (message frequency detection), it learns the normal rate; for approach 2 (isolation forest), it learns the splits on normal data; for approach 3 (autoencoder), it learns a latent representation of normal data to arrive at a consistent error of reconstruction.\n",
        "- `detect_anomalies()`  \n",
        "This method uses the model's internal representation of normal data to detect an anomaly. When predictions have been made, it prints the classification report and stores the F1 score of the model on the target class in the model's `attack_f1` attribute.\n",
        "- `chart_f1()`  \n",
        "Each model defines a `chart_f1()` method to visualize the performance of the model on the different attack datasets as a barplot of F1 values.\n",
        "\n",
        "The uniformity helps to compare the performance of the different approaches.\n",
        "\n",
        "------"
      ],
      "metadata": {
        "id": "YOnprH80CpeM"
      }
    },
    {
      "cell_type": "markdown",
      "source": [
        "## Approach 1: Frequency-based Detection\n",
        "Young, Olufowobi, Bloom & Zambreno (2019) in the paper, \"Automotive Intrusion Detection Based on Constant CAN\n",
        "Message Frequencies Across Vehicle Driving Modes\" propose that a more than double increase in the frequency of CAN message transmission is a simple indicator that <ins>there are anomalies in a CAN bus</ins>.\n",
        "\n",
        "To implement the idea of this approach, a class, `Freq`, is defined. It defines a window (here, one second) and determines the average number of normal messages transmitted in that window. At inference time, if the frequency is greater than a given threshold, there is an anomaly.\n",
        "\n",
        "Note that this approach only cares about *how many* messages were transmitted in each window and not what those messages were. For this, a dummy feature containing only the numeric value `1` is created and used to count the number of messages per second.\n",
        "\n",
        "That average number of messages per second during normal CAN transmission is stored as `normal_rate` and then used in anomaly detection at inference time."
      ],
      "metadata": {
        "id": "QO3fyWKZ_Mjd"
      }
    },
    {
      "cell_type": "code",
      "source": [
        "class Freq:\n",
        "    def __init__(self, threshold):\n",
        "        self.normal_rate:float|None = None\n",
        "        self.confusion_matrix = None\n",
        "        self.threshold = threshold\n",
        "\n",
        "        # store f1 scores for visualization later\n",
        "        self.attack_f1 = dict()\n",
        "\n",
        "    def get_freq(self, df):\n",
        "        \"\"\"Obtain the frequency of CAN messages for each second\"\"\"\n",
        "        # replace the data with a counting column but retain the timestamps\n",
        "        df = pd.concat([pd.Series(df.index), pd.Series(np.ones(df.shape[0]), name='message_count')], axis=1)\n",
        "\n",
        "        # group by second\n",
        "        freqs = df.groupby(pd.Grouper(key='timestamp', axis=0, freq='S')).count()\n",
        "\n",
        "        return freqs\n",
        "\n",
        "    def fit(self, train_X:pd.DataFrame):\n",
        "        \"\"\"Obtain the normal rate by calculating average frequency of normal messages\"\"\"\n",
        "        self.train_freqs = self.get_freq(train_X)\n",
        "        self.normal_rate = self.train_freqs[1:-1].mean()\n",
        "        print('Done')\n",
        "\n",
        "    def predict(self, test_X:pd.DataFrame):\n",
        "        self.test_freqs = self.get_freq(test_X)\n",
        "        preds = (self.test_freqs > (self.threshold * self.normal_rate)).astype(int)\n",
        "        return preds\n",
        "\n",
        "    def transform_labels(self, labels):\n",
        "        \"\"\"Transform the label by grouping by second\"\"\"\n",
        "        label_df = labels.reset_index()\n",
        "        labels = label_df.groupby(pd.Grouper(key='timestamp', axis=0, freq='S')).sum()\n",
        "\n",
        "        return labels\n",
        "\n",
        "    def detect_anomalies(self, test_X, test_labels, attack_name, return_preds=False):\n",
        "        labels = self.transform_labels(test_labels)\n",
        "\n",
        "        # instantiate isolation forest model\n",
        "        preds = self.predict(test_X)\n",
        "        print(f'Performance of the Frequency Detection approach on {attack_name} attack:')\n",
        "        print(classification_report(labels, preds))\n",
        "\n",
        "        self.attack_f1[attack_name] = f1_score(labels, preds) # store the f1 score\n",
        "\n",
        "        if return_preds: return preds\n",
        "\n",
        "    def chart_f1(self):\n",
        "        plt.figure(figsize=(10,5))\n",
        "        plt.title('F1 scores of the Frequency Detection model on several attack types')\n",
        "        x, y = list(self.attack_f1.keys()), list(self.attack_f1.values())\n",
        "        ax = plt.bar(x, y)"
      ],
      "metadata": {
        "id": "enOqr1BIRdCJ"
      },
      "execution_count": null,
      "outputs": []
    },
    {
      "cell_type": "markdown",
      "source": [
        "When we call the `detect_anomalies` method of the `Freq` class above:\n",
        "- the `normal_rate` is obtained from training data\n",
        "- predictions are made using the `normal_rate` and the test data. Note that predictions show whether an anomaly occurred at a given second.\n",
        "- the actual labels are processed so they indicate an anomaly occurred at a given second.\n",
        "- the classification report is printed\n",
        "\n",
        "Next, we use this class to predict anomalies for the different attack datasets and visualize the f1 scores for each attack type."
      ],
      "metadata": {
        "id": "sOekrzvBjlVa"
      }
    },
    {
      "cell_type": "code",
      "source": [
        "utils1 = CANUtils() # create an object for the CANUtil class"
      ],
      "metadata": {
        "id": "tlZqdezYCZpi"
      },
      "execution_count": null,
      "outputs": []
    },
    {
      "cell_type": "markdown",
      "source": [
        "#### A personal observation\n",
        "The authors' decision to make the threshold `2` (meaning that when the transmission rate doubles, there is an attack) may have been influenced by the nature of attacks they studied: injection attacks. For this dataset where there are, for instance, as many as 100,000 normal messages but only 10 diagnostic attacks, only mass injection attacks may be flagged as anomalous. It will be useful to use a more lenient value for threshold.   \n",
        "  \n",
        "Let's set the threshold value to 1.003 (so if there are on average 1405 messages per second, 1410 messages in a single second will indicate an attack)"
      ],
      "metadata": {
        "id": "uFWYxoPhAXl1"
      }
    },
    {
      "cell_type": "code",
      "source": [
        "# initialize the model on training data to get a value for normal rate\n",
        "freq = Freq(threshold=1.003)\n",
        "freq.fit(utils1.train)\n",
        "print(f'Normal rate of CAN transmission: {freq.normal_rate}')"
      ],
      "metadata": {
        "id": "sH4Y6Exk6ETQ",
        "colab": {
          "base_uri": "https://localhost:8080/"
        },
        "outputId": "a15c609d-072c-4e26-c028-3aad45c42050"
      },
      "execution_count": null,
      "outputs": [
        {
          "output_type": "stream",
          "name": "stdout",
          "text": [
            "Normal rate of CAN transmission: message_count    1405.359375\n",
            "dtype: float64\n"
          ]
        }
      ]
    },
    {
      "cell_type": "markdown",
      "source": [
        "Diagnostic attack:"
      ],
      "metadata": {
        "id": "A1SFOezWKml4"
      }
    },
    {
      "cell_type": "code",
      "source": [
        "diag_preds = freq.detect_anomalies(utils1.diag_X,\n",
        "                      utils1.diag_y,\n",
        "                      attack_name='Diagnostic',\n",
        "                      return_preds=True) # return the predictions\n",
        "\n",
        "print(f'Predictions for diagnostic attack:')\n",
        "diag_preds.value_counts()"
      ],
      "metadata": {
        "id": "pO4onLy8kGX8",
        "colab": {
          "base_uri": "https://localhost:8080/"
        },
        "outputId": "7657fa86-0074-43e0-b723-d9de88626b01"
      },
      "execution_count": null,
      "outputs": [
        {
          "output_type": "stream",
          "name": "stdout",
          "text": [
            "Performance of the Frequency Detection approach on Diagnostic attack:\n",
            "              precision    recall  f1-score   support\n",
            "\n",
            "           0       0.89      0.97      0.93        73\n",
            "           1       0.33      0.10      0.15        10\n",
            "\n",
            "    accuracy                           0.87        83\n",
            "   macro avg       0.61      0.54      0.54        83\n",
            "weighted avg       0.82      0.87      0.83        83\n",
            "\n",
            "Predictions for diagnostic attack:\n"
          ]
        },
        {
          "output_type": "execute_result",
          "data": {
            "text/plain": [
              "message_count\n",
              "0                80\n",
              "1                 3\n",
              "dtype: int64"
            ]
          },
          "metadata": {},
          "execution_count": 35
        }
      ]
    },
    {
      "cell_type": "markdown",
      "source": [
        "Denial of Service:"
      ],
      "metadata": {
        "id": "WLBHvfrEKjCV"
      }
    },
    {
      "cell_type": "code",
      "source": [
        "freq.detect_anomalies(utils1.dos_X,\n",
        "                      utils1.dos_y,\n",
        "                      attack_name='DOS')"
      ],
      "metadata": {
        "id": "UZMKKBxV7H_4",
        "colab": {
          "base_uri": "https://localhost:8080/"
        },
        "outputId": "6d85a906-bf9b-49ea-8463-3222a664f243"
      },
      "execution_count": null,
      "outputs": [
        {
          "output_type": "stream",
          "name": "stdout",
          "text": [
            "Performance of the Frequency Detection approach on DOS attack:\n",
            "              precision    recall  f1-score   support\n",
            "\n",
            "           0       1.00      0.97      0.99        73\n",
            "           1       0.83      1.00      0.91        10\n",
            "\n",
            "    accuracy                           0.98        83\n",
            "   macro avg       0.92      0.99      0.95        83\n",
            "weighted avg       0.98      0.98      0.98        83\n",
            "\n"
          ]
        }
      ]
    },
    {
      "cell_type": "markdown",
      "source": [
        "CAN ID Fuzzing:"
      ],
      "metadata": {
        "id": "GDx_mPhFLRGY"
      }
    },
    {
      "cell_type": "code",
      "source": [
        "freq.detect_anomalies(utils1.fuzzing_canid_X,\n",
        "                      utils1.fuzzing_canid_y,\n",
        "                      attack_name='ID Fuzzing')"
      ],
      "metadata": {
        "id": "jeQLFUbb8nFw",
        "colab": {
          "base_uri": "https://localhost:8080/"
        },
        "outputId": "971b333b-c05a-4a1b-c0fe-54811ea64c66"
      },
      "execution_count": null,
      "outputs": [
        {
          "output_type": "stream",
          "name": "stdout",
          "text": [
            "Performance of the Frequency Detection approach on ID Fuzzing attack:\n",
            "              precision    recall  f1-score   support\n",
            "\n",
            "           0       0.89      0.99      0.94        73\n",
            "           1       0.50      0.10      0.17        10\n",
            "\n",
            "    accuracy                           0.88        83\n",
            "   macro avg       0.69      0.54      0.55        83\n",
            "weighted avg       0.84      0.88      0.84        83\n",
            "\n"
          ]
        }
      ]
    },
    {
      "cell_type": "markdown",
      "source": [
        "CAN payload fuzzing:"
      ],
      "metadata": {
        "id": "mjDfMBPdLW4N"
      }
    },
    {
      "cell_type": "code",
      "source": [
        "fp_preds = freq.detect_anomalies(utils1.fuzzing_payload_X,\n",
        "                      utils1.fuzzing_payload_y,\n",
        "                      attack_name='Payload Fuzzing',\n",
        "                      return_preds=True) # return the predictions\n",
        "\n",
        "print(f'Predictions for payload fuzzing attack:')\n",
        "fp_preds.value_counts()"
      ],
      "metadata": {
        "id": "Ozrx_bQC8niZ",
        "colab": {
          "base_uri": "https://localhost:8080/"
        },
        "outputId": "2697f879-8ac6-4df5-8aa1-e569fabea9fd"
      },
      "execution_count": null,
      "outputs": [
        {
          "output_type": "stream",
          "name": "stdout",
          "text": [
            "Performance of the Frequency Detection approach on Payload Fuzzing attack:\n",
            "              precision    recall  f1-score   support\n",
            "\n",
            "           0       0.99      0.98      0.98        82\n",
            "           1       0.00      0.00      0.00         1\n",
            "\n",
            "    accuracy                           0.96        83\n",
            "   macro avg       0.49      0.49      0.49        83\n",
            "weighted avg       0.98      0.96      0.97        83\n",
            "\n",
            "Predictions for payload fuzzing attack:\n"
          ]
        },
        {
          "output_type": "execute_result",
          "data": {
            "text/plain": [
              "message_count\n",
              "0                81\n",
              "1                 2\n",
              "dtype: int64"
            ]
          },
          "metadata": {},
          "execution_count": 38
        }
      ]
    },
    {
      "cell_type": "markdown",
      "source": [
        "Replay attack:"
      ],
      "metadata": {
        "id": "Q43oI0L0LfGu"
      }
    },
    {
      "cell_type": "code",
      "source": [
        "freq.detect_anomalies(utils1.replay_X,\n",
        "                      utils1.replay_y,\n",
        "                      attack_name='Replay')"
      ],
      "metadata": {
        "id": "EUE_ofAm8n7t",
        "colab": {
          "base_uri": "https://localhost:8080/"
        },
        "outputId": "1236bd7c-0d77-41f8-8fae-f3e51ba501e7"
      },
      "execution_count": null,
      "outputs": [
        {
          "output_type": "stream",
          "name": "stdout",
          "text": [
            "Performance of the Frequency Detection approach on Replay attack:\n",
            "              precision    recall  f1-score   support\n",
            "\n",
            "           0       1.00      0.99      0.99        82\n",
            "           1       0.50      1.00      0.67         1\n",
            "\n",
            "    accuracy                           0.99        83\n",
            "   macro avg       0.75      0.99      0.83        83\n",
            "weighted avg       0.99      0.99      0.99        83\n",
            "\n"
          ]
        }
      ]
    },
    {
      "cell_type": "markdown",
      "source": [
        "Suspension attack:"
      ],
      "metadata": {
        "id": "dOp1he6FMHD4"
      }
    },
    {
      "cell_type": "code",
      "source": [
        "freq.detect_anomalies(utils1.suspension_X,\n",
        "                      utils1.suspension_y,\n",
        "                      attack_name='Suspension')"
      ],
      "metadata": {
        "id": "YVPdBbWY80af",
        "colab": {
          "base_uri": "https://localhost:8080/"
        },
        "outputId": "63b46fba-7ca4-4cfa-fbbd-0472dc935da9"
      },
      "execution_count": null,
      "outputs": [
        {
          "output_type": "stream",
          "name": "stdout",
          "text": [
            "Performance of the Frequency Detection approach on Suspension attack:\n",
            "              precision    recall  f1-score   support\n",
            "\n",
            "           0       0.88      0.99      0.93        72\n",
            "           1       0.50      0.09      0.15        11\n",
            "\n",
            "    accuracy                           0.87        83\n",
            "   macro avg       0.69      0.54      0.54        83\n",
            "weighted avg       0.83      0.87      0.83        83\n",
            "\n"
          ]
        }
      ]
    },
    {
      "cell_type": "markdown",
      "source": [
        "### F1 scores from approach 1:"
      ],
      "metadata": {
        "id": "lPWy-TO_RQWY"
      }
    },
    {
      "cell_type": "code",
      "source": [
        "freq.attack_f1"
      ],
      "metadata": {
        "colab": {
          "base_uri": "https://localhost:8080/"
        },
        "id": "wzW8lFbOgqDd",
        "outputId": "d61f997d-3e2a-480c-8b30-3ce240a35d89"
      },
      "execution_count": null,
      "outputs": [
        {
          "output_type": "execute_result",
          "data": {
            "text/plain": [
              "{'Diagnostic': 0.15384615384615383,\n",
              " 'DOS': 0.9090909090909091,\n",
              " 'ID Fuzzing': 0.16666666666666669,\n",
              " 'Payload Fuzzing': 0.0,\n",
              " 'Replay': 0.6666666666666666,\n",
              " 'Suspension': 0.15384615384615385}"
            ]
          },
          "metadata": {},
          "execution_count": 41
        }
      ]
    },
    {
      "cell_type": "code",
      "source": [
        "freq.chart_f1()"
      ],
      "metadata": {
        "id": "a8d3K9Z1ROoG",
        "colab": {
          "base_uri": "https://localhost:8080/",
          "height": 468
        },
        "outputId": "58edf70d-2950-491d-c502-315356602c8f"
      },
      "execution_count": null,
      "outputs": [
        {
          "output_type": "display_data",
          "data": {
            "text/plain": [
              "<Figure size 1000x500 with 1 Axes>"
            ],
            "image/png": "[encoded data removed]"
          },
          "metadata": {}
        }
      ]
    },
    {
      "cell_type": "markdown",
      "source": [
        "The Frequency detection method isn't perfect, achieving less than 50% recall for most of the attack types. It is however useful in detecting DOS and replay attacks because that is the kind of problem this heuristic is suited for — injection attacks that blow the transmission rate."
      ],
      "metadata": {
        "id": "oxTGaTtHibru"
      }
    },
    {
      "cell_type": "markdown",
      "source": [
        "## Approach 2: ???????\n",
        "The Isolation Forest (Liu, Ting, and Zhou, 2008) is a tree-based anomaly detection algorithm that uses the path length of a data point in a decision tree to measure its isolation. Anomaly scores are assigned to data points based on their path lengths, and points with shorter path lengths are more likely to be anomalies:  \n",
        "> Random partitioning produces noticeably shorter paths for anomalies. Hence, when a forest of random trees collectively produce shorter path lengths for particular samples, they are highly likely to be anomalies.(“Sklearn.ensemble.IsolationForest,” 2023)\n",
        "\n",
        "Let's define a class, `IsoForest`, with a `detect_anomalies()` method that:\n",
        "1. Fits an Isolation Forest model\n",
        "2. Detect anomalies\n",
        "3. Prints the classification report\n",
        "4. Stores the f1 score for each attack type.\n",
        "\n",
        "The class will also have a `chart_f1()` method for comparing the f1 scores of the isolation forest approach on the different attack datasets."
      ],
      "metadata": {
        "id": "fIPUP7qc-1ww"
      }
    },
    {
      "cell_type": "code",
      "source": [
        "class IsoForest():\n",
        "    def __init__(self):\n",
        "        # store f1 scores for visualization later\n",
        "        self.attack_f1 = dict()\n",
        "        self.model = IsolationForest(random_state=rs)\n",
        "\n",
        "    def fit(self, train_X):\n",
        "        self.model.fit(train_X)\n",
        "        print('Done')\n",
        "\n",
        "    def detect_anomalies(self, test_X, label, attack_name, return_preds=False):\n",
        "        contam = label.sum()/label.shape[0] # get the fraction of anomalies\n",
        "        # make predictions and print classification\n",
        "        preds = self.model.predict(test_X)\n",
        "        preds = np.where(preds==1, 0, 1) # transform predictions\n",
        "        # return preds\n",
        "        print(f'Performance of the Isolation Forest approach on {attack_name}:')\n",
        "        print(classification_report(label, preds))\n",
        "\n",
        "        self.attack_f1[attack_name] = f1_score(label, preds) # store the f1 score\n",
        "\n",
        "        if return_preds: return preds\n",
        "\n",
        "    def chart_f1(self):\n",
        "        plt.figure(figsize=(10,5))\n",
        "        plt.title('F1 scores of the Isolation Forest model on several attack types')\n",
        "        x, y = list(self.attack_f1.keys()), list(self.attack_f1.values())\n",
        "        ax = plt.bar(x, y)"
      ],
      "metadata": {
        "id": "dIkOmOTaxnvk"
      },
      "execution_count": null,
      "outputs": []
    },
    {
      "cell_type": "markdown",
      "source": [
        "Note that the predictions of the Isolation Forest model had to be transformed like {-1:1, 1:0} because the `fit_predict` method of `sklearn.IsolationForest` returns -1 for anomalies and 1 for inliers. The transformation was necessary so that it could correspond to the label with 0 representing normal data and 1 representing anomalies."
      ],
      "metadata": {
        "id": "a8J1q8Ha90NR"
      }
    },
    {
      "cell_type": "code",
      "source": [
        "utils2 = CANUtils() # create a new object for the CANUtil class"
      ],
      "metadata": {
        "id": "Vt0-diAvCUsR"
      },
      "execution_count": null,
      "outputs": []
    },
    {
      "cell_type": "code",
      "source": [
        "isof = IsoForest()\n",
        "isof.fit(utils2.train) # fit model"
      ],
      "metadata": {
        "id": "6w4J5LatGdHK"
      },
      "execution_count": null,
      "outputs": []
    },
    {
      "cell_type": "markdown",
      "source": [
        "Diagnostic attack:"
      ],
      "metadata": {
        "id": "WDw6k-E64Yd2"
      }
    },
    {
      "cell_type": "code",
      "source": [
        "diag_preds = isof.detect_anomalies(utils2.diag_X,\n",
        "                      utils2.diag_y,\n",
        "                      attack_name='Diagnostic',\n",
        "                      return_preds=True)\n",
        "\n",
        "print(f'Predictions for diagnostic attack:')\n",
        "Counter(diag_preds)"
      ],
      "metadata": {
        "id": "T11Kjc6R4Yd3"
      },
      "execution_count": null,
      "outputs": []
    },
    {
      "cell_type": "markdown",
      "source": [
        "Denial of Service:"
      ],
      "metadata": {
        "id": "H-Zhs9l04Yd4"
      }
    },
    {
      "cell_type": "code",
      "source": [
        "isof.detect_anomalies(utils2.dos_X,\n",
        "                      utils2.dos_y,\n",
        "                      attack_name='DOS')"
      ],
      "metadata": {
        "id": "svOo7FXa4Yd4"
      },
      "execution_count": null,
      "outputs": []
    },
    {
      "cell_type": "markdown",
      "source": [
        "CAN ID Fuzzing:"
      ],
      "metadata": {
        "id": "9VJq5Tzd4Yd5"
      }
    },
    {
      "cell_type": "code",
      "source": [
        "isof.detect_anomalies(utils2.fuzzing_canid_X,\n",
        "                      utils2.fuzzing_canid_y,\n",
        "                      attack_name='ID Fuzzing')"
      ],
      "metadata": {
        "colab": {
          "base_uri": "https://localhost:8080/"
        },
        "outputId": "8f1756f2-804b-41fb-a2a6-d616bd3d9acc",
        "id": "QED30lyN4Yd5"
      },
      "execution_count": null,
      "outputs": [
        {
          "output_type": "stream",
          "name": "stdout",
          "text": [
            "Performance of the Isolation Forest approach on ID Fuzzing:\n",
            "              precision    recall  f1-score   support\n",
            "\n",
            "           0       1.00      1.00      1.00    115971\n",
            "           1       0.00      0.00      0.00        10\n",
            "\n",
            "    accuracy                           1.00    115981\n",
            "   macro avg       0.50      0.50      0.50    115981\n",
            "weighted avg       1.00      1.00      1.00    115981\n",
            "\n"
          ]
        },
        {
          "output_type": "stream",
          "name": "stderr",
          "text": [
            "/usr/local/lib/python3.10/dist-packages/sklearn/metrics/_classification.py:1344: UndefinedMetricWarning: Precision and F-score are ill-defined and being set to 0.0 in labels with no predicted samples. Use `zero_division` parameter to control this behavior.\n",
            "  _warn_prf(average, modifier, msg_start, len(result))\n",
            "/usr/local/lib/python3.10/dist-packages/sklearn/metrics/_classification.py:1344: UndefinedMetricWarning: Precision and F-score are ill-defined and being set to 0.0 in labels with no predicted samples. Use `zero_division` parameter to control this behavior.\n",
            "  _warn_prf(average, modifier, msg_start, len(result))\n",
            "/usr/local/lib/python3.10/dist-packages/sklearn/metrics/_classification.py:1344: UndefinedMetricWarning: Precision and F-score are ill-defined and being set to 0.0 in labels with no predicted samples. Use `zero_division` parameter to control this behavior.\n",
            "  _warn_prf(average, modifier, msg_start, len(result))\n"
          ]
        }
      ]
    },
    {
      "cell_type": "markdown",
      "source": [
        "CAN payload fuzzing:"
      ],
      "metadata": {
        "id": "E5b0-StL4Yd5"
      }
    },
    {
      "cell_type": "code",
      "source": [
        "isof.detect_anomalies(utils2.fuzzing_payload_X,\n",
        "                      utils2.fuzzing_payload_y,\n",
        "                      attack_name='Payload Fuzzing')"
      ],
      "metadata": {
        "id": "70rBhxU34Yd6"
      },
      "execution_count": null,
      "outputs": []
    },
    {
      "cell_type": "markdown",
      "source": [
        "Replay attack:"
      ],
      "metadata": {
        "id": "WCIczK_E4Yd6"
      }
    },
    {
      "cell_type": "code",
      "source": [
        "isof.detect_anomalies(utils2.replay_X,\n",
        "                      utils2.replay_y,\n",
        "                      attack_name='Replay')"
      ],
      "metadata": {
        "id": "S4-EhXxS4Yd6"
      },
      "execution_count": null,
      "outputs": []
    },
    {
      "cell_type": "markdown",
      "source": [
        "Suspension attack:"
      ],
      "metadata": {
        "id": "LRIj8TNH4Yd6"
      }
    },
    {
      "cell_type": "code",
      "source": [
        "isof.detect_anomalies(utils2.suspension_X,\n",
        "                      utils2.suspension_y,\n",
        "                      attack_name='Suspension')"
      ],
      "metadata": {
        "id": "sD3aNobt4Yd7"
      },
      "execution_count": null,
      "outputs": []
    },
    {
      "cell_type": "markdown",
      "source": [
        "### F1 scores from approach 2:"
      ],
      "metadata": {
        "id": "7KZ8yPY54Yd7"
      }
    },
    {
      "cell_type": "code",
      "source": [
        "isof.attack_f1"
      ],
      "metadata": {
        "id": "apjj86jy4Yd8"
      },
      "execution_count": null,
      "outputs": []
    },
    {
      "cell_type": "code",
      "source": [
        "isof.chart_f1()"
      ],
      "metadata": {
        "id": "acmLlAA-4Yd8"
      },
      "execution_count": null,
      "outputs": []
    },
    {
      "cell_type": "markdown",
      "source": [
        "## Approach 3: Anomaly detection using the latent representation of normal data\n",
        "Alsaade and Al-Adhaileh (2023) in \"Cyber Attack Detection for Self-Driving Vehicle Networks Using Deep Autoencoder Algorithms\" employ the autoencoder approach to solve the anomaly detection problem.\n",
        "\n",
        "Using an autoencoder, we train on only normal data. Predictions of abnormal data can be flagged because the error of reconstruction will usually be larger than the error reconstructing the normal data the model was trained on. This sounds like a good fit for the imbalance in the dataset.\n",
        "\n",
        "Let's define the `AutoEncoder` class."
      ],
      "metadata": {
        "id": "silptM7ZvEIV"
      }
    },
    {
      "cell_type": "code",
      "source": [
        "device = 'cuda:0' if T.cuda.is_available() else 'cpu' # choose the available device"
      ],
      "metadata": {
        "id": "9FGmYk5oyILO"
      },
      "execution_count": null,
      "outputs": []
    },
    {
      "cell_type": "code",
      "source": [
        "utils3 = CANUtils()"
      ],
      "metadata": {
        "id": "5lnfDHWKdZUl"
      },
      "execution_count": null,
      "outputs": []
    },
    {
      "cell_type": "code",
      "source": [
        "class AutoEncoder(T.nn.Module):\n",
        "    def __init__(self, size):\n",
        "        super().__init__()\n",
        "        self.fc1 = T.nn.Linear(size, 32)\n",
        "        self.fc2 = T.nn.Linear(32, 8)\n",
        "        self.fc3 = T.nn.Linear(8, 32)\n",
        "        self.fc4 = T.nn.Linear(32, size)\n",
        "        self.threshold = 0.0\n",
        "\n",
        "        # store f1 scores for visualization later\n",
        "        self.attack_f1 = dict()\n",
        "\n",
        "    def encode(self, x):\n",
        "        z = T.tanh(self.fc1(x))\n",
        "        z = T.tanh(self.fc2(z))\n",
        "        return z\n",
        "\n",
        "    def decode(self, x):\n",
        "        z = T.tanh(self.fc3(x))\n",
        "        z = T.sigmoid(self.fc4(z))\n",
        "        return z\n",
        "\n",
        "    def forward(self, x):\n",
        "        z = self.encode(x)\n",
        "        z = self.decode(z)\n",
        "        return z\n",
        "\n",
        "    def set_threshold(self, value):\n",
        "        self.threshold = value\n",
        "\n",
        "    def fit(self, input, batch_size, epochs, log_interval, learning_rate):\n",
        "        # set up loader object\n",
        "        data_ldr = T.utils.data.DataLoader(T.Tensor(input.values).to(device),\n",
        "                                        batch_size=batch_size,\n",
        "                                        shuffle=True)\n",
        "\n",
        "        loss_func = T.nn.MSELoss() # mean squared error loss\n",
        "        opt = T.optim.SGD(self.parameters(), lr=learning_rate) # SGD optimizer\n",
        "\n",
        "        print(\"\\nStarting training\")\n",
        "        for epoch in tqdm(range(epochs)):\n",
        "            epoch_loss = 0.0 # reset loss\n",
        "            for (batch_idx, batch) in enumerate(data_ldr):\n",
        "                X = batch  # inputs\n",
        "                Y = batch  # targets (same as inputs)\n",
        "\n",
        "                opt.zero_grad() # prepare gradients\n",
        "                output = self(X) # compute output/target\n",
        "                loss_val = loss_func(output, Y) # compute loss/error\n",
        "                epoch_loss += loss_val.item() # accumulate for display\n",
        "                loss_val.backward() # compute gradients\n",
        "                opt.step() # update weights\n",
        "\n",
        "            if epoch % log_interval == 0:\n",
        "                print(\"epoch = %4d   loss = %0.4f\" % (epoch, epoch_loss))\n",
        "\n",
        "        errors = self.rec_error(input) # compute error of reconstruction\n",
        "\n",
        "        self.set_threshold(np.mean(errors) + np.std(errors)) # set threshold to 1 z-score\n",
        "        print(\"Done \")\n",
        "\n",
        "    def rec_error(self, data):\n",
        "        \"\"\"Compute the reconstruction error when a sample is passed through the autoencoder\"\"\"\n",
        "        # diff = autoenc(T.Tensor(data.values)).detach().numpy() - data.values\n",
        "        input = T.Tensor(data.values).to(device)\n",
        "        diff = (autoenc(input) - input).cpu().detach().numpy()\n",
        "        error = np.mean(np.power(diff, 2), axis=1) # scalar error of reconstruction\n",
        "        return error\n",
        "\n",
        "    def detect_anomalies(self, data_X, label, attack_name, return_preds=False):\n",
        "        \"\"\"\n",
        "        Compute reconstruction error. If the error of a message exceeds the threshold\n",
        "        default of (1 z score), it is predicted as an anomaly\n",
        "        \"\"\"\n",
        "\n",
        "        errors = self.rec_error(data_X) # compute error of reconstruction\n",
        "        preds = np.where(errors > self.threshold, 1, 0) # calculate predictions\n",
        "        print(f'Performance of the Autoencoder on {attack_name} attack:')\n",
        "        print(classification_report(label, preds))\n",
        "\n",
        "        self.attack_f1[attack_name] = f1_score(label, preds) # store the f1 score\n",
        "\n",
        "        if return_preds: return preds\n",
        "\n",
        "    def chart_f1(self):\n",
        "        plt.figure(figsize=(10,5))\n",
        "        plt.title('F1 scores of the Autoencoder model on several attack types')\n",
        "        x, y = list(self.attack_f1.keys()), list(self.attack_f1.values())\n",
        "        ax = plt.bar(x, y)"
      ],
      "metadata": {
        "id": "wrO0zkQNw1zI"
      },
      "execution_count": null,
      "outputs": []
    },
    {
      "cell_type": "markdown",
      "source": [
        "The `fit` method sets up the dataloader, loss function, optimizer and runs the training loop for the given number of epochs on the normal data.  \n",
        "To be able to determine anomalies, a threshold error value will be calculated. Let's define the threshold to be 1 z-score i.e one standard deviation from the mean of errors of reconstruction. A reconstruction with an error exceeding that value is thus an anomaly."
      ],
      "metadata": {
        "id": "lnLMkdItrekL"
      }
    },
    {
      "cell_type": "markdown",
      "source": [
        "Next, it is important that the autoencoder is just trained on only normal data so it only learns those patterns and not of the anomalies too. The `CANUtils().train` dataset contains only normal data so it will be used for training."
      ],
      "metadata": {
        "id": "qyA7TJJcnxTt"
      }
    },
    {
      "cell_type": "code",
      "source": [
        "input_size = utils3.train.shape[1] # get the dimension of the input\n",
        "\n",
        "autoenc = AutoEncoder(input_size).to(device)\n",
        "autoenc.train() # set to train mode"
      ],
      "metadata": {
        "id": "iyTdqgUPWSEa",
        "colab": {
          "base_uri": "https://localhost:8080/"
        },
        "outputId": "3313bdde-02e8-4158-ce10-d4651f100131"
      },
      "execution_count": null,
      "outputs": [
        {
          "output_type": "execute_result",
          "data": {
            "text/plain": [
              "AutoEncoder(\n",
              "  (fc1): Linear(in_features=63, out_features=32, bias=True)\n",
              "  (fc2): Linear(in_features=32, out_features=8, bias=True)\n",
              "  (fc3): Linear(in_features=8, out_features=32, bias=True)\n",
              "  (fc4): Linear(in_features=32, out_features=63, bias=True)\n",
              ")"
            ]
          },
          "metadata": {},
          "execution_count": 48
        }
      ]
    },
    {
      "cell_type": "markdown",
      "source": [
        "Now that everything is set up, let's train the model:"
      ],
      "metadata": {
        "id": "Ov5k5Bb6son2"
      }
    },
    {
      "cell_type": "code",
      "source": [
        "# autoenc.fit(input = utils3.train,\n",
        "#             batch_size = 32,\n",
        "#             epochs = 200,\n",
        "#             log_interval = 50,\n",
        "#             learning_rate = 3e-3\n",
        "#             )"
      ],
      "metadata": {
        "id": "lYQqee0uW1x7",
        "colab": {
          "base_uri": "https://localhost:8080/"
        },
        "outputId": "f4a3f0d1-599e-4ffc-ebd2-9335914b9d0e"
      },
      "execution_count": null,
      "outputs": [
        {
          "output_type": "stream",
          "name": "stdout",
          "text": [
            "\n",
            "Starting training\n"
          ]
        },
        {
          "output_type": "stream",
          "name": "stderr",
          "text": [
            " 50%|█████     | 1/2 [00:12<00:12, 12.67s/it]"
          ]
        },
        {
          "output_type": "stream",
          "name": "stdout",
          "text": [
            "epoch =    0   loss = 2946.6958\n"
          ]
        },
        {
          "output_type": "stream",
          "name": "stderr",
          "text": [
            "100%|██████████| 2/2 [00:23<00:00, 11.61s/it]\n"
          ]
        },
        {
          "output_type": "stream",
          "name": "stdout",
          "text": [
            "Done \n"
          ]
        }
      ]
    },
    {
      "cell_type": "markdown",
      "source": [
        "*Note: The next two cells save the model's state dict and load them after. This is so we don't have to run the training stap every time this notebook is run*"
      ],
      "metadata": {
        "id": "BAVLAkvFLEhX"
      }
    },
    {
      "cell_type": "code",
      "source": [
        "# T.save(autoenc.state_dict(), 'can-autoencoder.pt') # save the model"
      ],
      "metadata": {
        "id": "b9e8nMPe7pVo"
      },
      "execution_count": null,
      "outputs": []
    },
    {
      "cell_type": "code",
      "source": [
        "device = 'cuda:0' if T.cuda.is_available() else 'cpu'\n",
        "autoenc = AutoEncoder(input_size).to(device)\n",
        "autoenc.load_state_dict(T.load('can-autoencoder.pt'))\n",
        "autoenc.eval()"
      ],
      "metadata": {
        "colab": {
          "base_uri": "https://localhost:8080/"
        },
        "id": "zLAb8bYZqA5R",
        "outputId": "a5cb2265-2cf2-48da-9f85-e1a16420c7f2"
      },
      "execution_count": null,
      "outputs": [
        {
          "output_type": "execute_result",
          "data": {
            "text/plain": [
              "AutoEncoder(\n",
              "  (fc1): Linear(in_features=63, out_features=32, bias=True)\n",
              "  (fc2): Linear(in_features=32, out_features=8, bias=True)\n",
              "  (fc3): Linear(in_features=8, out_features=32, bias=True)\n",
              "  (fc4): Linear(in_features=32, out_features=63, bias=True)\n",
              ")"
            ]
          },
          "metadata": {},
          "execution_count": 41
        }
      ]
    },
    {
      "cell_type": "markdown",
      "source": [
        "Diagnostic attack:"
      ],
      "metadata": {
        "id": "kjeHDJEAMi0f"
      }
    },
    {
      "cell_type": "code",
      "source": [
        "from collections import Counter # count the classes in the predictions"
      ],
      "metadata": {
        "id": "Ly2j1tO-4a--"
      },
      "execution_count": null,
      "outputs": []
    },
    {
      "cell_type": "code",
      "source": [
        "diag_preds = autoenc.detect_anomalies(utils3.diag_X,\n",
        "                         utils3.diag_y,\n",
        "                         attack_name='Diagnostic',\n",
        "                         return_preds=True)\n",
        "\n",
        "Counter(diag_preds)"
      ],
      "metadata": {
        "colab": {
          "base_uri": "https://localhost:8080/"
        },
        "outputId": "004200e6-0f7b-4d14-9c09-a23995a8ac5c",
        "id": "psb9haLv4bu4"
      },
      "execution_count": null,
      "outputs": [
        {
          "output_type": "stream",
          "name": "stdout",
          "text": [
            "Performance of the Autoencoder on Diagnostic attack:\n",
            "              precision    recall  f1-score   support\n",
            "\n",
            "           0       1.00      0.85      0.92    115971\n",
            "           1       0.00      1.00      0.00        10\n",
            "\n",
            "    accuracy                           0.85    115981\n",
            "   macro avg       0.50      0.92      0.46    115981\n",
            "weighted avg       1.00      0.85      0.92    115981\n",
            "\n"
          ]
        },
        {
          "output_type": "execute_result",
          "data": {
            "text/plain": [
              "Counter({1: 17792, 0: 98189})"
            ]
          },
          "metadata": {},
          "execution_count": 51
        }
      ]
    },
    {
      "cell_type": "markdown",
      "source": [
        "Denial of Service:"
      ],
      "metadata": {
        "id": "5vcv8JIGMi0t"
      }
    },
    {
      "cell_type": "code",
      "source": [
        "autoenc.detect_anomalies(utils3.dos_X,\n",
        "                         utils3.dos_y,\n",
        "                         attack_name='DOS')"
      ],
      "metadata": {
        "id": "G3PtGcBC4bvG",
        "colab": {
          "base_uri": "https://localhost:8080/"
        },
        "outputId": "f8a15b4d-2c56-46e1-fff6-b5955f00965c"
      },
      "execution_count": null,
      "outputs": [
        {
          "output_type": "stream",
          "name": "stdout",
          "text": [
            "Performance of the Autoencoder on DOS attack:\n",
            "              precision    recall  f1-score   support\n",
            "\n",
            "           0       1.00      0.84      0.92    101926\n",
            "           1       0.72      1.00      0.83     40001\n",
            "\n",
            "    accuracy                           0.89    141927\n",
            "   macro avg       0.86      0.92      0.88    141927\n",
            "weighted avg       0.92      0.89      0.89    141927\n",
            "\n"
          ]
        }
      ]
    },
    {
      "cell_type": "markdown",
      "source": [
        "CAN ID Fuzzing:"
      ],
      "metadata": {
        "id": "Gv2KET4HLhSo"
      }
    },
    {
      "cell_type": "code",
      "source": [
        "autoenc.detect_anomalies(utils3.fuzzing_canid_X,\n",
        "                         utils3.fuzzing_canid_y,\n",
        "                         attack_name='ID Fuzzing')"
      ],
      "metadata": {
        "colab": {
          "base_uri": "https://localhost:8080/"
        },
        "outputId": "24b09e3b-16ec-4cc8-a4f3-23bf218c1c86",
        "id": "Ljfdxbf3LhSp"
      },
      "execution_count": null,
      "outputs": [
        {
          "output_type": "stream",
          "name": "stdout",
          "text": [
            "Performance of the Autoencoder on ID Fuzzing attack:\n",
            "              precision    recall  f1-score   support\n",
            "\n",
            "           0       1.00      0.85      0.92    115971\n",
            "           1       0.00      1.00      0.00        10\n",
            "\n",
            "    accuracy                           0.85    115981\n",
            "   macro avg       0.50      0.92      0.46    115981\n",
            "weighted avg       1.00      0.85      0.92    115981\n",
            "\n"
          ]
        }
      ]
    },
    {
      "cell_type": "markdown",
      "source": [
        "CAN payload fuzzing:"
      ],
      "metadata": {
        "id": "nuL2xpiQLhSp"
      }
    },
    {
      "cell_type": "code",
      "source": [
        "autoenc.detect_anomalies(utils3.fuzzing_payload_X,\n",
        "                         utils3.fuzzing_payload_y,\n",
        "                         attack_name='Payload Fuzzing')"
      ],
      "metadata": {
        "colab": {
          "base_uri": "https://localhost:8080/"
        },
        "outputId": "2ebbf1f5-f98e-430d-d447-933c064cbdb4",
        "id": "u2_uRDpELhSq"
      },
      "execution_count": null,
      "outputs": [
        {
          "output_type": "stream",
          "name": "stdout",
          "text": [
            "Performance of the Autoencoder on Payload Fuzzing attack:\n",
            "              precision    recall  f1-score   support\n",
            "\n",
            "           0       1.00      0.85      0.92    115961\n",
            "           1       0.00      1.00      0.00        10\n",
            "\n",
            "    accuracy                           0.85    115971\n",
            "   macro avg       0.50      0.92      0.46    115971\n",
            "weighted avg       1.00      0.85      0.92    115971\n",
            "\n"
          ]
        }
      ]
    },
    {
      "cell_type": "markdown",
      "source": [
        "Replay attack:"
      ],
      "metadata": {
        "id": "YVljCE_NLhSq"
      }
    },
    {
      "cell_type": "code",
      "source": [
        "autoenc.detect_anomalies(utils3.replay_X,\n",
        "                      utils3.replay_y,\n",
        "                      attack_name='Replay')"
      ],
      "metadata": {
        "colab": {
          "base_uri": "https://localhost:8080/"
        },
        "outputId": "27a32685-d2cb-4161-96db-6b4b00e0d3d3",
        "id": "SKgBLgV-LhSq"
      },
      "execution_count": null,
      "outputs": [
        {
          "output_type": "stream",
          "name": "stdout",
          "text": [
            "Performance of the Autoencoder on Replay attack:\n",
            "              precision    recall  f1-score   support\n",
            "\n",
            "           0       1.00      0.85      0.92    115882\n",
            "           1       0.00      0.35      0.00       120\n",
            "\n",
            "    accuracy                           0.85    116002\n",
            "   macro avg       0.50      0.60      0.46    116002\n",
            "weighted avg       1.00      0.85      0.92    116002\n",
            "\n"
          ]
        }
      ]
    },
    {
      "cell_type": "markdown",
      "source": [
        "Suspension attack:"
      ],
      "metadata": {
        "id": "J0yOF0y8LhSr"
      }
    },
    {
      "cell_type": "code",
      "source": [
        "autoenc.detect_anomalies(utils3.suspension_X,\n",
        "                         utils3.suspension_y,\n",
        "                         attack_name='Suspension')"
      ],
      "metadata": {
        "colab": {
          "base_uri": "https://localhost:8080/"
        },
        "outputId": "5028ff2f-1654-48e8-adde-ff203e3daa5f",
        "id": "AtSkPGnzLhSr"
      },
      "execution_count": null,
      "outputs": [
        {
          "output_type": "stream",
          "name": "stdout",
          "text": [
            "Performance of the Autoencoder on Suspension attack:\n",
            "              precision    recall  f1-score   support\n",
            "\n",
            "           0       0.88      0.84      0.86    101919\n",
            "           1       0.08      0.11      0.09     13553\n",
            "\n",
            "    accuracy                           0.76    115472\n",
            "   macro avg       0.48      0.48      0.48    115472\n",
            "weighted avg       0.78      0.76      0.77    115472\n",
            "\n"
          ]
        }
      ]
    },
    {
      "cell_type": "markdown",
      "source": [
        "### F1 scores from approach 2:"
      ],
      "metadata": {
        "id": "fgtA_JshLhSr"
      }
    },
    {
      "cell_type": "code",
      "source": [
        "autoenc.attack_f1"
      ],
      "metadata": {
        "colab": {
          "base_uri": "https://localhost:8080/"
        },
        "outputId": "7779fb4b-3d0e-4f19-ccb7-4cb2b1786f3e",
        "id": "fhLjWkqILhSr"
      },
      "execution_count": null,
      "outputs": [
        {
          "output_type": "execute_result",
          "data": {
            "text/plain": [
              "{'Diagnostic': 0.0011234692731153803,\n",
              " 'DOS': 0.8347802495930549,\n",
              " 'ID Fuzzing': 0.0011234692731153803,\n",
              " 'Payload Fuzzing': 0.0011234692731153803,\n",
              " 'Replay': 0.004684101934980204,\n",
              " 'Suspension': 0.09404592035283435}"
            ]
          },
          "metadata": {},
          "execution_count": 57
        }
      ]
    },
    {
      "cell_type": "code",
      "source": [
        "autoenc.chart_f1()"
      ],
      "metadata": {
        "colab": {
          "base_uri": "https://localhost:8080/",
          "height": 468
        },
        "outputId": "788b70b5-5aac-48d6-936e-f39c98884a29",
        "id": "1bdnW2XxLhSs"
      },
      "execution_count": null,
      "outputs": [
        {
          "output_type": "display_data",
          "data": {
            "text/plain": [
              "<Figure size 1000x500 with 1 Axes>"
            ],
            "image/png": "[encoded data removed]"
          },
          "metadata": {}
        }
      ]
    },
    {
      "cell_type": "markdown",
      "source": [
        "## Conclusion\n",
        "We have seen the results of the three approaches on anomaly detection. Several other methods exist. Some research papers use Long Short Term Memory (LSTM) and/or ConvNet architecture in place of Autoencoders, message intervals in place of frequency detection, support vectors instead of tree-based estimation and so on. Perhaps it is a good idea to build a classifier? Several roads lead to the market.\n",
        "\n",
        "One thing that can be improved on in the various approaches above is hyperparameter tuning for the two machine learning approaches and a search across different threshold values for the frequency detection approach."
      ],
      "metadata": {
        "id": "7F05-fxRkVZh"
      }
    },
    {
      "cell_type": "markdown",
      "source": [
        "__________"
      ],
      "metadata": {
        "id": "LquYoOxlOoon"
      }
    },
    {
      "cell_type": "markdown",
      "source": [
        "## References\n",
        "Alsaade, F. W., & Al-Adhaileh, M. H. (2023). Cyber Attack Detection for Self-Driving Vehicle Networks Using Deep Autoencoder Algorithms. Sensors, 23(8), 4086. https://doi.org/10.3390/s23084086\n",
        "\n",
        "Liu, F. T., Ting, K. M., & Zhou, Z.-H. (2008). Isolation Forest. IEEE International Conference on Data Mining.\n",
        "\n",
        "Narayanan, Sandeep & Mittal, Sudip & Joshi, Anupam. (2016). OBD_SecureAlert: An Anomaly Detection System for Vehicles. 1-6. 10.1109/SMARTCOMP.2016.7501710.\n",
        "\n",
        "sklearn.ensemble.IsolationForest. (2023). Retrieved August 2, 2023, from scikit-learn website: https://scikit-learn.org/stable/modules/generated/sklearn.ensemble.IsolationForest.html\n",
        "\n",
        "Young, Clinton & Olufowobi, Habeeb & Bloom, Gedare & Zambreno, Joseph. (2019). Automotive Intrusion Detection Based on Constant CAN Message Frequencies Across Vehicle Driving Modes. 9-14. 10.1145/3309171.3309179.\n",
        "\n",
        "Zhou, Li, & Shen. (2019). Anomaly Detection of CAN Bus Messages Using A Deep Neural Network for Autonomous Vehicles. Applied Sciences, 9(15), 3174. https://doi.org/10.3390/app9153174"
      ],
      "metadata": {
        "id": "c3EL5d8PAhdi"
      }
    }
  ]
}