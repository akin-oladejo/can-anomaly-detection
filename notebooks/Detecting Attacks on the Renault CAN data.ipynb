{
  "nbformat": 4,
  "nbformat_minor": 0,
  "metadata": {
    "colab": {
      "provenance": [],
      "mount_file_id": "1dzHB8q6CX9KZ_xe34lRDjvGr78W1LUJE",
      "authorship_tag": "ABX9TyPflb2184iwp7aYgoS4+g7B",
      "include_colab_link": true
    },
    "kernelspec": {
      "name": "python3",
      "display_name": "Python 3"
    },
    "language_info": {
      "name": "python"
    }
  },
  "cells": [
    {
      "cell_type": "markdown",
      "metadata": {
        "id": "view-in-github",
        "colab_type": "text"
      },
      "source": [
        "<a href=\"https://colab.research.google.com/github/akin-oladejo/can-anomaly-detection/blob/main/notebooks/Detecting%20Attacks%20on%20the%20Renault%20CAN%20data.ipynb\" target=\"_parent\"><img src=\"https://colab.research.google.com/assets/colab-badge.svg\" alt=\"Open In Colab\"/></a>"
      ]
    },
    {
      "cell_type": "markdown",
      "source": [
        "# Detecting Attacks on CAN Data"
      ],
      "metadata": {
        "id": "GEjqQciJKJKW"
      }
    },
    {
      "cell_type": "markdown",
      "source": [
        "## The Task\n",
        "The Controller Area Network (CAN) is currently the most widely-used in-vehicle networking protocol. It is a bi-directional, multi-master, serial bus that uses UTP cabling to ensure reliability in electromagnetically noisy environments. Several devices in modern vehicles communicate with each other using the CAN protocol. Some of these devices are connected to the internet, allowing external attacks in various forms such as Replay, Spoofing, Denial of Service (DOS) and so on. In this project, different methods will be employed to detect attacks on the CAN.  \n",
        "\n",
        "The methods are:\n",
        "1. Frequency-based detection\n",
        "2. Tree-based detection i.e. Isolation Forest\n",
        "3. Anomaly detection using the latent representation of normal data i.e. autoencoders\n",
        "\n",
        "Frequency-based detection is a heuristic approach; Isolation forest is a standard machine learning algorithm; the Autoencoder is a deep learning solution.\n",
        "\n"
      ],
      "metadata": {
        "id": "AU9zVsEZSiZQ"
      }
    },
    {
      "cell_type": "code",
      "execution_count": 1,
      "metadata": {
        "id": "9FAE4BqEREZu"
      },
      "outputs": [],
      "source": [
        "# Import libraries that will enable us perform this task\n",
        "\n",
        "# data analysis libs\n",
        "import pandas as pd\n",
        "import numpy as np\n",
        "\n",
        "# visualization libs\n",
        "import matplotlib.pyplot as plt\n",
        "%matplotlib inline\n",
        "import seaborn as sns\n",
        "\n",
        "# Machine learning libs\n",
        "# from sklearn.preprocessing import OneHotEncoder, StandardScaler\n",
        "from sklearn.metrics import classification_report, f1_score\n",
        "from sklearn.neighbors import LocalOutlierFactor\n",
        "import torch as T\n",
        "\n",
        "# utils\n",
        "from dataclasses import dataclass\n",
        "import joblib\n",
        "from tqdm import tqdm\n",
        "from collections import Counter"
      ]
    },
    {
      "cell_type": "code",
      "source": [
        "# config\n",
        "pd.set_option('display.max_rows', 500)\n",
        "pd.set_option('display.max_columns', 500)\n",
        "pd.set_option('display.width', 1000)\n",
        "\n",
        "rs = 42 # seed for PRNG's\n",
        "T.manual_seed(rs)\n",
        "np.random.seed(rs)"
      ],
      "metadata": {
        "id": "2JqhFAR2-HAJ"
      },
      "execution_count": 2,
      "outputs": []
    },
    {
      "cell_type": "markdown",
      "source": [
        "## The Dataset\n",
        "The dataset used in this project is the **Automotive Controller Area Network (CAN) Bus Intrusion Dataset v2**. It can be found [here](https://figshare.com/articles/dataset/Automotive_Controller_Area_Network_CAN_Bus_Intrusion_Dataset/12696950). This dataset contains automotive Controller Area Network (CAN) bus data from three systems: two cars (Opel Astra and Renault Clio) and from a CAN bus prototype made by the authors of the dataset. Its purpose is to evaluate CAN bus Network Intrusion Detection Systems (NIDS). For each vehicle/system, there is a collection of log files captured from its CAN bus: normal (attack-free) data for training and testing detection algorithms, and different CAN bus attacks (Diagnostic, Fuzzing attacks, Replay attack, Suspension attack and Denial-of-Service attack).\n",
        "\n",
        "For this project, I used data from the Renault Clio. The description of the different logs and attacks can be found in ../RenaultClio/README.md"
      ],
      "metadata": {
        "id": "8y3qIvlkp1w_"
      }
    },
    {
      "cell_type": "markdown",
      "source": [
        "## Preprocessing the datasets\n",
        "For the analysis of the data that drives the following preprocessing steps, check the analysis notebook in the same directory as this notebook.\n",
        "It will be helpful to define all the functionality we need for the different approaches in a utility class, `CANUtils`.\n",
        "\n"
      ],
      "metadata": {
        "id": "7p-rPAEBI63D"
      }
    },
    {
      "cell_type": "code",
      "source": [
        "class CANUtils():\n",
        "    def __init__(self, dataset_path:str = '/content/drive/MyDrive/datasets/RenaultClio',\n",
        "                 preprocess:bool = True,\n",
        "                 preserve_timestamp = True,\n",
        "                 add_helper_features = False):\n",
        "        \"\"\"Load and preprocess datasets; load standard scaler and one-hot encoder\"\"\"\n",
        "        self.dataset_path = dataset_path\n",
        "        self.preprocess = preprocess\n",
        "        self.ss_scaler = joblib.load('std_scaler.bin') # standard scaler\n",
        "        self.oh_encoder = joblib.load('oh_encoder.bin') # one-hot encoder\n",
        "        self.add_helper_features = add_helper_features\n",
        "\n",
        "        # load and preprocess train dataset\n",
        "        self.train = self.load_csv('training.log', generate_dummy_label=False)\n",
        "\n",
        "        # load and preprocess attack datasets, generate placeholder labels of 0 for attack and normal data\n",
        "        self.diag_X, self.diag_y = self.load_csv('diagnostic.log')\n",
        "        self.dos_X, self.dos_y = self.load_csv('dosattack.log')\n",
        "        self.fuzzing_canid_X, self.fuzzing_canid_y = self.load_csv('fuzzing_canid.log')\n",
        "        self.fuzzing_payload_X, self.fuzzing_payload_y = self.load_csv('fuzzing_payload.log')\n",
        "        self.replay_X, self.replay_y = self.load_csv('replay.log')\n",
        "        self.suspension_X, self.suspension_y = self.load_csv('suspension.log')\n",
        "\n",
        "        # now label attack data\n",
        "        self.label_anomalies()\n",
        "\n",
        "    def load_csv(self, file_name:str, generate_dummy_label:bool = True)->tuple|pd.DataFrame:\n",
        "        \"\"\"Read csv into dataframe and add headers\"\"\"\n",
        "        df = pd.read_csv(f\"{self.dataset_path}/{file_name}\",\n",
        "                           delimiter=' ',\n",
        "                           names=['timestamp', '_', 'id_and_message'])\n",
        "\n",
        "        if self.preprocess:\n",
        "            return self.prep(df, generate_dummy_label) # preprocess the df for ml\n",
        "\n",
        "        return df\n",
        "\n",
        "    def prep(self, df, generate_dummy_label)->tuple|pd.DataFrame:\n",
        "        \"\"\"Encode categorical and Numeric features; scale numeric features;\n",
        "         parse timestamp\"\"\"\n",
        "        id_and_message = df['id_and_message'].str.split('#', expand=True)\n",
        "\n",
        "        # extract CAN ID and encode\n",
        "        id = id_and_message[0].array.reshape(-1, 1) # extract the ID and reshape\n",
        "        id = self.oh_encoder.transform(id).toarray() # transform the categorical data\n",
        "\n",
        "        # extract CAN message, convert to float and scale\n",
        "        message = id_and_message[1].apply(lambda x: ' '.join(x[i:i+2] for i in range(0, len(x), 2))) # space out\n",
        "        message = message.str.split(' ', expand=True) # split message into 8 features\n",
        "        message.fillna('-01', inplace=True) # pad short messages with 00 to make 8 features\n",
        "        message = message.apply(lambda x : x.astype(str).map(lambda x : float(int(x, base=16)))) # convert hex values to float\n",
        "        message = self.ss_scaler.transform(message)\n",
        "\n",
        "        timestamp = df['timestamp'].apply(lambda x: x.strip('()')) # strip parentheses on timestamp\n",
        "        timestamp = pd.to_datetime(timestamp, unit='s') # convert epoch to datetime\n",
        "\n",
        "\n",
        "        data = pd.concat([pd.DataFrame(message), pd.DataFrame(id)], axis=1).set_index(timestamp)\n",
        "\n",
        "        # generate a label with a default class of 0. Anomalies will be labelled with the generate_labels() method\n",
        "        if generate_dummy_label:\n",
        "            dummy_label = pd.Series(np.zeros(df.shape[0], dtype='int'), index=data.index)\n",
        "            # dummy_label = pd.DataFrame(data=[df['timestamp'], np.zeros(df.shape[0], dtype='int')], index=data.index)\n",
        "            return data, dummy_label\n",
        "        else:\n",
        "            return data\n",
        "\n",
        "    def ct(self, ts):\n",
        "        \"\"\"convert epoch timestamp to datetime object\"\"\"\n",
        "        return pd.to_datetime(ts, unit='s')\n",
        "\n",
        "    def label_anomalies(self):\n",
        "        \"\"\"Label anomalies in the attack datasets using their given timestamps\"\"\"\n",
        "        self.diag_y.loc[self.ct([1508687482.406900,1508687487.866800,1508687502.575500,1508687512.499500,1508687518.669000,1508687523.374000,1508687525.644000,1508687529.981900,1508687534.287000,1508687539.609000])] = 1\n",
        "        self.fuzzing_canid_y.loc[self.ct([1508687487.890000,1508687492.956990,1508687499.119000,1508687504.279400,1508687509.908800,1508687514.807100,1508687524.537000,1508687528.251700,1508687533.801300,1508687537.851000])] = 1\n",
        "        self.fuzzing_payload_y.loc[self.ct([1508687506.038589,1508687506.048527,1508687506.058697,1508687506.068532,1508687506.078506,1508687506.089060,1508687506.098673,1508687506.108634,1508687506.118458,1508687506.129889])] = 1\n",
        "        self.replay_y.loc[self.ct(1508687499.839714):self.ct(1508687499.905626)] = 1\n",
        "        self.dos_y.loc[self.ct(1508687506.000236):self.ct(1508687515.999845)] = 1\n",
        "        self.suspension_y.loc[self.ct(1508687499.999696):self.ct(1508687510.000100)] = 1"
      ],
      "metadata": {
        "id": "LnXHvuxX5Pr_"
      },
      "execution_count": 142,
      "outputs": []
    },
    {
      "cell_type": "markdown",
      "source": [
        "------------\n",
        "test canutils  \n",
        "- [ ] add interval col\n",
        "- [ ] fill missing vals with -1\n",
        "- [ ] change to local outlier factor, use novelty detection"
      ],
      "metadata": {
        "id": "AYZLGuvOtx01"
      }
    },
    {
      "cell_type": "markdown",
      "source": [
        "### Explaining the `CANUtils` class\n",
        "The `CANUtils` class contains methods to process the data into valid input for machine learning algorithms. The initialization dunder, `__init__()`, loads the standard scaler and one hot encoder files and, with the `load_csv()` method, applies them to the numeric and categorical features in each dataset respectively.  \n",
        "The `prep()` method is called after the csv files are loaded. It extracts and separates CAN ID from payload and converts the timestamps from epochs to `pd.Timestamp`, a more human-readable time format. It then returns the data and a placeholder label (an array of zeros with the same number of rows as the data).\n",
        "\n"
      ],
      "metadata": {
        "id": "bVSAQ4bIdyTM"
      }
    },
    {
      "cell_type": "markdown",
      "source": [
        "### Feature Engineering in the `CANUtils` class\n",
        "\\<missing info>  \n",
        "#### Helper features\n",
        "Usually with anomaly detection, the idea is to identify examples that do not conform to the properties of normal data. Isolation forest would, for instance, identify anomalies as data points with fewer splits; density estimation algorithms like DBSCAN and LocalOutlier Factor look at examples that occur in regions of low density.\n",
        "The problem with anomalous CAN data is that most of the attack data resembles normal data:\n",
        "- DOS for example is a series of valid data transmitted so many times that proper functioning of the CAN is inhibited — it is still very much valid data.\n",
        "- replay attack in the dataset is just the repeated transmission of data with an arbitration id of `2C6` ten times more than regular. It is still a valid CAN id and the payload is still valid.\n",
        "\n",
        "\n",
        "This presents a struggle — how does an algorithm that uses density estimation tell this kind of data apart from regular, normal data? The answer is in the nature of attack transmission. Here are some pointers:\n",
        "1. Attacks generally increase CAN transmission rates. This is demonstrated in (Young, Olufowobi, Bloom & Zambreno, 2019) and is in fact the basis of approach 1.\n",
        "2. Some CAN ID's are not seen as often, or even ever. Perhaps an increase in transmission rates from an ID indicates an anomaly? What happens when a CAN ID that never transmitted normally is seen during test? Will that help us identify anomalies?\n",
        "3. Attack data can contain weird payloads. Take for instance the fuzzing payload attack.\n",
        "\n",
        "To test that\n",
        "\n"
      ],
      "metadata": {
        "id": "Qk2BH8A2UWyW"
      }
    },
    {
      "cell_type": "markdown",
      "source": [
        "### Labelling the anomalies\n",
        "In the documentation, the authors declared the timestamps when the various attacks occurred. The `label_anomalies()` method uses that information to change the zeros at the attack timestamps in the placeholder label to a value of 1. The attack timestamps are identified using the `ct()` method, which does the epoch-to-timestamp conversion so that the timestamps where attacks occurred can be labelled 1 correctly.\n",
        "\n",
        "Thus, the label arrays for each attack dataset contains two classes: 1 for attack messages and 0 for normal messages.\n",
        "\n",
        "This gives us the advantage of comparing predictions from the different methods and scoring them against a metric — the F1 score. The F1 score is the harmonic mean of the precision and recall of a model. It is a useful summary metric for scoring the performance of a model in predicting a class even when there are few samples of that class to predict.  "
      ],
      "metadata": {
        "id": "0NmNZQGWJPe5"
      }
    },
    {
      "cell_type": "markdown",
      "source": [
        "## A Pattern to the Three Approaches\n",
        "For uniformity, each approach will be modeled as a class that implements the following methods:\n",
        "- `__init__()`  \n",
        "While the different approaches may create different attributes and call different methods upon object initialization, the different classes initialize a common attribute: `attack_f1`. `attack_f1` is a dictionary to store the F1 scores of each model on the different attack datasets. These values are visualized using the `chart_f1()` method.\n",
        "- `fit()`  \n",
        "The different approaches follow a common principle: learn the representation of normal activity. The `fit` method learns this representation differently for each approach: for approach 1 (message frequency detection), it learns the normal rate; for approach 2 (isolation forest), it learns the splits on normal data; for approach 3 (autoencoder), it learns a latent representation of normal data to arrive at a consistent error of reconstruction.\n",
        "- `detect_anomalies()`  \n",
        "This method uses the model's internal representation of normal data to detect an anomaly. When predictions have been made, it prints the classification report and stores the F1 score of the model on the target class in the model's `attack_f1` attribute.\n",
        "- `chart_f1()`  \n",
        "Each model defines a `chart_f1()` method to visualize the performance of the model on the different attack datasets as a barplot of F1 values.\n",
        "\n",
        "## How the approaches will be scored\n",
        "It is not enough that an approach detects anomalies. If the model were to predict wrongly most of the time, it would be annoying. We want the model to detect as many anomalies but not to the point where there are so many spurious detection. Hence we want a model that score a high true positive rate for the attack class and a low false positive rate so we don't have an incessant detector.\n",
        "\n",
        "The uniformity of the three approaches allows us to define a single testing function, `test_approach`, that runs the `detect_anomalies()` method for each attack type and visualizes their scores:"
      ],
      "metadata": {
        "id": "YOnprH80CpeM"
      }
    },
    {
      "cell_type": "code",
      "source": [
        "def test_approach(model,\n",
        "                  utils:CANUtils,\n",
        "                  print_report:bool=False):\n",
        "    attack_dict = {\n",
        "        'Diagnostic':{\n",
        "            'test':utils.diag_X,\n",
        "            'label':utils.diag_y\n",
        "        },\n",
        "\n",
        "        'Denial of Service':{\n",
        "            'test':utils.dos_X,\n",
        "            'label':utils.dos_y\n",
        "        },\n",
        "\n",
        "        'CAN ID Fuzzing':{\n",
        "            'test':utils.fuzzing_canid_X,\n",
        "            'label':utils.fuzzing_canid_y\n",
        "        },\n",
        "\n",
        "        'CAN Payload Fuzzing':{\n",
        "            'test':utils.fuzzing_payload_X,\n",
        "            'label':utils.fuzzing_payload_y\n",
        "        },\n",
        "\n",
        "        'Replay':{\n",
        "            'test':utils.replay_X,\n",
        "            'label':utils.replay_y\n",
        "        },\n",
        "\n",
        "        'Suspension':{\n",
        "            'test':utils.suspension_X,\n",
        "            'label':utils.suspension_y\n",
        "        }\n",
        "    }\n",
        "\n",
        "    for attack_name, data in attack_dict.items():\n",
        "        preds = model.detect_anomalies(data['test'],\n",
        "                                      data['label'],\n",
        "                                      attack_name=attack_name,\n",
        "                                      print_report=print_report,\n",
        "                                      return_preds=print_report) # return the predictions\n",
        "\n",
        "        if print_report:\n",
        "            print(f'Predictions for {attack_name} attack:')\n",
        "            print(Counter(preds))\n",
        "            print('\\n=================================================================')\n",
        "\n",
        "    print(f'\\nF1 Scores of the {model.model_name_} approach:')\n",
        "    for i, j in model.attack_f1.items():\n",
        "        print(f'{i:<20}: {round(j,5)}')\n",
        "\n",
        "    print()\n",
        "    model.chart_f1() # display f1 as barplot"
      ],
      "metadata": {
        "id": "E-TsZjcXLABE"
      },
      "execution_count": 131,
      "outputs": []
    },
    {
      "cell_type": "markdown",
      "source": [
        "## Approach 1: Frequency-based Detection\n",
        "Young, Olufowobi, Bloom & Zambreno (2019) in the paper, \"Automotive Intrusion Detection Based on Constant CAN\n",
        "Message Frequencies Across Vehicle Driving Modes\" propose that a more than double increase in the frequency of CAN message transmission is a simple indicator that <ins>there are anomalies in a CAN bus</ins>.\n",
        "\n",
        "To implement the idea of this approach, a class, `Freq`, is defined. It defines a window (here, one second) and determines the average number of normal messages transmitted in that window. At inference time, if the frequency is greater than a given threshold, there is an anomaly.\n",
        "\n",
        "Note that this approach only cares about *how many* messages were transmitted in each window and not what those messages were. For this, a dummy feature containing only the numeric value `1` is created and used to count the number of messages per second.\n",
        "\n",
        "That average number of messages per second during normal CAN transmission is stored as `normal_rate` and then used in anomaly detection at inference time."
      ],
      "metadata": {
        "id": "QO3fyWKZ_Mjd"
      }
    },
    {
      "cell_type": "code",
      "source": [
        "utils1 = CANUtils() # create an object for the CANUtil class"
      ],
      "metadata": {
        "id": "tlZqdezYCZpi"
      },
      "execution_count": 4,
      "outputs": []
    },
    {
      "cell_type": "code",
      "source": [
        "class Freq:\n",
        "    def __init__(self, threshold):\n",
        "        self.normal_rate:float|None = None\n",
        "        self.confusion_matrix = None\n",
        "        self.threshold = threshold\n",
        "        self.model_name_ = 'Frequency Detection'\n",
        "\n",
        "        # store f1 scores for visualization later\n",
        "        self.attack_f1 = dict()\n",
        "\n",
        "    def get_freq(self, df):\n",
        "        \"\"\"Obtain the frequency of CAN messages for each second\"\"\"\n",
        "        # replace the data with a counting column but retain the timestamps\n",
        "        df = pd.concat([pd.Series(df.index),\n",
        "                        pd.Series(np.ones(df.shape[0]), name='message_count')], axis=1)\n",
        "\n",
        "        # group by second\n",
        "        freqs = df.groupby(pd.Grouper(key='timestamp', axis=0, freq='S')).count()\n",
        "\n",
        "        return freqs\n",
        "\n",
        "    def fit(self, train_X:pd.DataFrame):\n",
        "        \"\"\"Obtain the normal rate by calculating average frequency of normal messages\"\"\"\n",
        "        self.train_freqs = self.get_freq(train_X)\n",
        "        self.normal_rate = self.train_freqs[1:-1].mean()\n",
        "        print('Done')\n",
        "\n",
        "    def predict(self, test_X:pd.DataFrame):\n",
        "        self.test_freqs = self.get_freq(test_X)\n",
        "        preds = (self.test_freqs > (self.threshold * self.normal_rate)).astype(int)\n",
        "        return preds.loc[:,'message_count'].values\n",
        "\n",
        "    def transform_labels(self, labels):\n",
        "        \"\"\"Transform the label by grouping by second\"\"\"\n",
        "        label_df = labels.reset_index()\n",
        "        labels = label_df.groupby(pd.Grouper(key='timestamp', axis=0, freq='S')).any().astype(int)\n",
        "        # labels = label_df.groupby(pd.Grouper(key='timestamp', axis=0, freq='S')).sum()\n",
        "\n",
        "        return labels\n",
        "\n",
        "    def detect_anomalies(self, test_X, test_labels, attack_name, print_report=True, return_preds=False):\n",
        "        labels = self.transform_labels(test_labels)\n",
        "\n",
        "        # instantiate isolation forest model\n",
        "        preds = self.predict(test_X)\n",
        "        if print_report:\n",
        "            print(f'Performance of the {self.model_name_} approach on {attack_name} attack:')\n",
        "            print(classification_report(labels, preds))\n",
        "\n",
        "        self.attack_f1[attack_name] = f1_score(labels, preds) # store the f1 score\n",
        "\n",
        "        if return_preds: return preds\n",
        "\n",
        "    def chart_f1(self):\n",
        "        plt.figure(figsize=(13,5))\n",
        "        plt.title(f'F1 scores of the {self.model_name_} model on several attack types')\n",
        "        x, y = list(self.attack_f1.keys()), list(self.attack_f1.values())\n",
        "        ax = plt.bar(x, y)"
      ],
      "metadata": {
        "id": "enOqr1BIRdCJ"
      },
      "execution_count": 141,
      "outputs": []
    },
    {
      "cell_type": "markdown",
      "source": [
        "When we call the `detect_anomalies` method of the `Freq` class above:\n",
        "- the `normal_rate` is obtained from training data\n",
        "- predictions are made using the `normal_rate` and the test data. Note that predictions show whether an anomaly occurred at a given second.\n",
        "- the actual labels are processed so they indicate an anomaly occurred at a given second.\n",
        "- the classification report is printed\n",
        "\n",
        "Next, we use this class to predict anomalies for the different attack datasets and visualize the f1 scores for each attack type."
      ],
      "metadata": {
        "id": "sOekrzvBjlVa"
      }
    },
    {
      "cell_type": "markdown",
      "source": [
        "#### A personal observation\n",
        "The authors' decision to make the threshold `2` (meaning that when the transmission rate doubles, there is an attack) may have been influenced by the nature of attacks they studied: injection attacks. For this dataset where there are, for instance, as many as 100,000 normal messages but only 10 diagnostic attacks, only mass injection attacks may be flagged as anomalous. It will be useful to use a more lenient value for threshold.   \n",
        "  \n",
        "Let's set the threshold value to 1.003 (so if there are on average 1405 messages per second, 1410 messages in a single second will indicate an attack)"
      ],
      "metadata": {
        "id": "uFWYxoPhAXl1"
      }
    },
    {
      "cell_type": "code",
      "source": [
        "# initialize the model on training data to get a value for normal rate\n",
        "freq = Freq(threshold=1.003)\n",
        "freq.fit(utils1.train)\n",
        "print(f'Normal rate of CAN transmission: {freq.normal_rate}')"
      ],
      "metadata": {
        "id": "sH4Y6Exk6ETQ",
        "colab": {
          "base_uri": "https://localhost:8080/"
        },
        "outputId": "b6a76884-b9a7-49f4-e3fd-009f02435df6"
      },
      "execution_count": 137,
      "outputs": [
        {
          "output_type": "stream",
          "name": "stdout",
          "text": [
            "Done\n",
            "Normal rate of CAN transmission: message_count    1405.359375\n",
            "dtype: float64\n"
          ]
        }
      ]
    },
    {
      "cell_type": "markdown",
      "source": [
        "Let's test the frequency detection approach"
      ],
      "metadata": {
        "id": "3daEAFVrLHeP"
      }
    },
    {
      "cell_type": "code",
      "source": [
        "test_approach(model=freq,\n",
        "              utils=utils1,\n",
        "              print_report=False)"
      ],
      "metadata": {
        "colab": {
          "base_uri": "https://localhost:8080/",
          "height": 552
        },
        "id": "_LeTJkEvLM81",
        "outputId": "5d816455-c859-451a-af64-3715a7934cb0"
      },
      "execution_count": 138,
      "outputs": [
        {
          "output_type": "stream",
          "name": "stdout",
          "text": [
            "\n",
            "F1 Scores of the Frequency Detection approach:\n",
            "Diagnostic          : 0.15385\n",
            "Denial of Service   : 0.90909\n",
            "CAN ID Fuzzing      : 0.16667\n",
            "CAN Payload Fuzzing : 0.0\n",
            "Replay              : 0.66667\n",
            "Suspension          : 0.15385\n",
            "\n"
          ]
        },
        {
          "output_type": "display_data",
          "data": {
            "text/plain": [
              "<Figure size 1300x500 with 1 Axes>"
            ],
            "image/png": "[encoded data removed]"
          },
          "metadata": {}
        }
      ]
    },
    {
      "cell_type": "markdown",
      "source": [
        "The Frequency detection method isn't perfect, achieving less than 50% recall for most of the attack types. It is however useful in detecting DOS and replay attacks because that is the kind of problem this heuristic is suited for — injection attacks that blow the transmission rate."
      ],
      "metadata": {
        "id": "oxTGaTtHibru"
      }
    },
    {
      "cell_type": "markdown",
      "source": [
        "## Approach 2: Density Estimation\n",
        "<del>The Isolation Forest (Liu, Ting, and Zhou, 2008) is a tree-based anomaly detection algorithm that uses the path length of a data point in a decision tree to measure its isolation. Anomaly scores are assigned to data points based on their path lengths, and points with shorter path lengths are more likely to be anomalies:  \n",
        "> Random partitioning produces noticeably shorter paths for anomalies. Hence, when a forest of random trees collectively produce shorter path lengths for particular samples, they are highly likely to be anomalies.(“Sklearn.ensemble.IsolationForest,” 2023)\n",
        "\n",
        "<del>Let's define a class, `IsoForest`, with a `detect_anomalies()` method that:\n",
        "1. Fits an Isolation Forest model\n",
        "2. Detect anomalies\n",
        "3. Prints the classification report\n",
        "4. Stores the f1 score for each attack type.\n",
        "\n",
        "<del>The class will also have a `chart_f1()` method for comparing the f1 scores of the isolation forest approach on the different attack datasets."
      ],
      "metadata": {
        "id": "fIPUP7qc-1ww"
      }
    },
    {
      "cell_type": "code",
      "source": [
        "utils2 = CANUtils() # create a new object for the CANUtil class"
      ],
      "metadata": {
        "id": "Vt0-diAvCUsR",
        "colab": {
          "base_uri": "https://localhost:8080/",
          "height": 330
        },
        "outputId": "363301da-0921-4684-b678-2db7ed98b795"
      },
      "execution_count": 143,
      "outputs": [
        {
          "output_type": "error",
          "ename": "KeyboardInterrupt",
          "evalue": "ignored",
          "traceback": [
            "\u001b[0;31m---------------------------------------------------------------------------\u001b[0m",
            "\u001b[0;31mKeyboardInterrupt\u001b[0m                         Traceback (most recent call last)",
            "\u001b[0;32m<ipython-input-143-f942beed4466>\u001b[0m in \u001b[0;36m<cell line: 1>\u001b[0;34m()\u001b[0m\n\u001b[0;32m----> 1\u001b[0;31m \u001b[0mutils2\u001b[0m \u001b[0;34m=\u001b[0m \u001b[0mCANUtils\u001b[0m\u001b[0;34m(\u001b[0m\u001b[0;34m)\u001b[0m \u001b[0;31m# create a new object for the CANUtil class\u001b[0m\u001b[0;34m\u001b[0m\u001b[0;34m\u001b[0m\u001b[0m\n\u001b[0m",
            "\u001b[0;32m<ipython-input-142-14fce6fe0b5b>\u001b[0m in \u001b[0;36m__init__\u001b[0;34m(self, dataset_path, preprocess, preserve_timestamp)\u001b[0m\n\u001b[1;32m     14\u001b[0m         \u001b[0;31m# load and preprocess attack datasets, generate placeholder labels of 0 for attack and normal data\u001b[0m\u001b[0;34m\u001b[0m\u001b[0;34m\u001b[0m\u001b[0m\n\u001b[1;32m     15\u001b[0m         \u001b[0mself\u001b[0m\u001b[0;34m.\u001b[0m\u001b[0mdiag_X\u001b[0m\u001b[0;34m,\u001b[0m \u001b[0mself\u001b[0m\u001b[0;34m.\u001b[0m\u001b[0mdiag_y\u001b[0m \u001b[0;34m=\u001b[0m \u001b[0mself\u001b[0m\u001b[0;34m.\u001b[0m\u001b[0mload_csv\u001b[0m\u001b[0;34m(\u001b[0m\u001b[0;34m'diagnostic.log'\u001b[0m\u001b[0;34m)\u001b[0m\u001b[0;34m\u001b[0m\u001b[0;34m\u001b[0m\u001b[0m\n\u001b[0;32m---> 16\u001b[0;31m         \u001b[0mself\u001b[0m\u001b[0;34m.\u001b[0m\u001b[0mdos_X\u001b[0m\u001b[0;34m,\u001b[0m \u001b[0mself\u001b[0m\u001b[0;34m.\u001b[0m\u001b[0mdos_y\u001b[0m \u001b[0;34m=\u001b[0m \u001b[0mself\u001b[0m\u001b[0;34m.\u001b[0m\u001b[0mload_csv\u001b[0m\u001b[0;34m(\u001b[0m\u001b[0;34m'dosattack.log'\u001b[0m\u001b[0;34m)\u001b[0m\u001b[0;34m\u001b[0m\u001b[0;34m\u001b[0m\u001b[0m\n\u001b[0m\u001b[1;32m     17\u001b[0m         \u001b[0mself\u001b[0m\u001b[0;34m.\u001b[0m\u001b[0mfuzzing_canid_X\u001b[0m\u001b[0;34m,\u001b[0m \u001b[0mself\u001b[0m\u001b[0;34m.\u001b[0m\u001b[0mfuzzing_canid_y\u001b[0m \u001b[0;34m=\u001b[0m \u001b[0mself\u001b[0m\u001b[0;34m.\u001b[0m\u001b[0mload_csv\u001b[0m\u001b[0;34m(\u001b[0m\u001b[0;34m'fuzzing_canid.log'\u001b[0m\u001b[0;34m)\u001b[0m\u001b[0;34m\u001b[0m\u001b[0;34m\u001b[0m\u001b[0m\n\u001b[1;32m     18\u001b[0m         \u001b[0mself\u001b[0m\u001b[0;34m.\u001b[0m\u001b[0mfuzzing_payload_X\u001b[0m\u001b[0;34m,\u001b[0m \u001b[0mself\u001b[0m\u001b[0;34m.\u001b[0m\u001b[0mfuzzing_payload_y\u001b[0m \u001b[0;34m=\u001b[0m \u001b[0mself\u001b[0m\u001b[0;34m.\u001b[0m\u001b[0mload_csv\u001b[0m\u001b[0;34m(\u001b[0m\u001b[0;34m'fuzzing_payload.log'\u001b[0m\u001b[0;34m)\u001b[0m\u001b[0;34m\u001b[0m\u001b[0;34m\u001b[0m\u001b[0m\n",
            "\u001b[0;32m<ipython-input-142-14fce6fe0b5b>\u001b[0m in \u001b[0;36mload_csv\u001b[0;34m(self, file_name, generate_dummy_label)\u001b[0m\n\u001b[1;32m     30\u001b[0m \u001b[0;34m\u001b[0m\u001b[0m\n\u001b[1;32m     31\u001b[0m         \u001b[0;32mif\u001b[0m \u001b[0mself\u001b[0m\u001b[0;34m.\u001b[0m\u001b[0mpreprocess\u001b[0m\u001b[0;34m:\u001b[0m\u001b[0;34m\u001b[0m\u001b[0;34m\u001b[0m\u001b[0m\n\u001b[0;32m---> 32\u001b[0;31m             \u001b[0;32mreturn\u001b[0m \u001b[0mself\u001b[0m\u001b[0;34m.\u001b[0m\u001b[0mprep\u001b[0m\u001b[0;34m(\u001b[0m\u001b[0mdf\u001b[0m\u001b[0;34m,\u001b[0m \u001b[0mgenerate_dummy_label\u001b[0m\u001b[0;34m)\u001b[0m \u001b[0;31m# preprocess the df for ml\u001b[0m\u001b[0;34m\u001b[0m\u001b[0;34m\u001b[0m\u001b[0m\n\u001b[0m\u001b[1;32m     33\u001b[0m \u001b[0;34m\u001b[0m\u001b[0m\n\u001b[1;32m     34\u001b[0m         \u001b[0;32mreturn\u001b[0m \u001b[0mdf\u001b[0m\u001b[0;34m\u001b[0m\u001b[0;34m\u001b[0m\u001b[0m\n",
            "\u001b[0;32m<ipython-input-142-14fce6fe0b5b>\u001b[0m in \u001b[0;36mprep\u001b[0;34m(self, df, generate_dummy_label)\u001b[0m\n\u001b[1;32m     46\u001b[0m         \u001b[0mmessage\u001b[0m \u001b[0;34m=\u001b[0m \u001b[0mid_and_message\u001b[0m\u001b[0;34m[\u001b[0m\u001b[0;36m1\u001b[0m\u001b[0;34m]\u001b[0m\u001b[0;34m.\u001b[0m\u001b[0mapply\u001b[0m\u001b[0;34m(\u001b[0m\u001b[0;32mlambda\u001b[0m \u001b[0mx\u001b[0m\u001b[0;34m:\u001b[0m \u001b[0;34m' '\u001b[0m\u001b[0;34m.\u001b[0m\u001b[0mjoin\u001b[0m\u001b[0;34m(\u001b[0m\u001b[0mx\u001b[0m\u001b[0;34m[\u001b[0m\u001b[0mi\u001b[0m\u001b[0;34m:\u001b[0m\u001b[0mi\u001b[0m\u001b[0;34m+\u001b[0m\u001b[0;36m2\u001b[0m\u001b[0;34m]\u001b[0m \u001b[0;32mfor\u001b[0m \u001b[0mi\u001b[0m \u001b[0;32min\u001b[0m \u001b[0mrange\u001b[0m\u001b[0;34m(\u001b[0m\u001b[0;36m0\u001b[0m\u001b[0;34m,\u001b[0m \u001b[0mlen\u001b[0m\u001b[0;34m(\u001b[0m\u001b[0mx\u001b[0m\u001b[0;34m)\u001b[0m\u001b[0;34m,\u001b[0m \u001b[0;36m2\u001b[0m\u001b[0;34m)\u001b[0m\u001b[0;34m)\u001b[0m\u001b[0;34m)\u001b[0m \u001b[0;31m# space out\u001b[0m\u001b[0;34m\u001b[0m\u001b[0;34m\u001b[0m\u001b[0m\n\u001b[1;32m     47\u001b[0m         \u001b[0mmessage\u001b[0m \u001b[0;34m=\u001b[0m \u001b[0mmessage\u001b[0m\u001b[0;34m.\u001b[0m\u001b[0mstr\u001b[0m\u001b[0;34m.\u001b[0m\u001b[0msplit\u001b[0m\u001b[0;34m(\u001b[0m\u001b[0;34m' '\u001b[0m\u001b[0;34m,\u001b[0m \u001b[0mexpand\u001b[0m\u001b[0;34m=\u001b[0m\u001b[0;32mTrue\u001b[0m\u001b[0;34m)\u001b[0m \u001b[0;31m# split message into 8 features\u001b[0m\u001b[0;34m\u001b[0m\u001b[0;34m\u001b[0m\u001b[0m\n\u001b[0;32m---> 48\u001b[0;31m         \u001b[0mmessage\u001b[0m\u001b[0;34m.\u001b[0m\u001b[0mfillna\u001b[0m\u001b[0;34m(\u001b[0m\u001b[0;34m'-01'\u001b[0m\u001b[0;34m,\u001b[0m \u001b[0minplace\u001b[0m\u001b[0;34m=\u001b[0m\u001b[0;32mTrue\u001b[0m\u001b[0;34m)\u001b[0m \u001b[0;31m# pad short messages with 00 to make 8 features\u001b[0m\u001b[0;34m\u001b[0m\u001b[0;34m\u001b[0m\u001b[0m\n\u001b[0m\u001b[1;32m     49\u001b[0m         \u001b[0mmessage\u001b[0m \u001b[0;34m=\u001b[0m \u001b[0mmessage\u001b[0m\u001b[0;34m.\u001b[0m\u001b[0mapply\u001b[0m\u001b[0;34m(\u001b[0m\u001b[0;32mlambda\u001b[0m \u001b[0mx\u001b[0m \u001b[0;34m:\u001b[0m \u001b[0mx\u001b[0m\u001b[0;34m.\u001b[0m\u001b[0mastype\u001b[0m\u001b[0;34m(\u001b[0m\u001b[0mstr\u001b[0m\u001b[0;34m)\u001b[0m\u001b[0;34m.\u001b[0m\u001b[0mmap\u001b[0m\u001b[0;34m(\u001b[0m\u001b[0;32mlambda\u001b[0m \u001b[0mx\u001b[0m \u001b[0;34m:\u001b[0m \u001b[0mfloat\u001b[0m\u001b[0;34m(\u001b[0m\u001b[0mint\u001b[0m\u001b[0;34m(\u001b[0m\u001b[0mx\u001b[0m\u001b[0;34m,\u001b[0m \u001b[0mbase\u001b[0m\u001b[0;34m=\u001b[0m\u001b[0;36m16\u001b[0m\u001b[0;34m)\u001b[0m\u001b[0;34m)\u001b[0m\u001b[0;34m)\u001b[0m\u001b[0;34m)\u001b[0m \u001b[0;31m# convert hex values to float\u001b[0m\u001b[0;34m\u001b[0m\u001b[0;34m\u001b[0m\u001b[0m\n\u001b[1;32m     50\u001b[0m         \u001b[0mmessage\u001b[0m \u001b[0;34m=\u001b[0m \u001b[0mself\u001b[0m\u001b[0;34m.\u001b[0m\u001b[0mss_scaler\u001b[0m\u001b[0;34m.\u001b[0m\u001b[0mtransform\u001b[0m\u001b[0;34m(\u001b[0m\u001b[0mmessage\u001b[0m\u001b[0;34m)\u001b[0m\u001b[0;34m\u001b[0m\u001b[0;34m\u001b[0m\u001b[0m\n",
            "\u001b[0;32m/usr/local/lib/python3.10/dist-packages/pandas/util/_decorators.py\u001b[0m in \u001b[0;36mwrapper\u001b[0;34m(*args, **kwargs)\u001b[0m\n\u001b[1;32m    329\u001b[0m                     \u001b[0mstacklevel\u001b[0m\u001b[0;34m=\u001b[0m\u001b[0mfind_stack_level\u001b[0m\u001b[0;34m(\u001b[0m\u001b[0;34m)\u001b[0m\u001b[0;34m,\u001b[0m\u001b[0;34m\u001b[0m\u001b[0;34m\u001b[0m\u001b[0m\n\u001b[1;32m    330\u001b[0m                 )\n\u001b[0;32m--> 331\u001b[0;31m             \u001b[0;32mreturn\u001b[0m \u001b[0mfunc\u001b[0m\u001b[0;34m(\u001b[0m\u001b[0;34m*\u001b[0m\u001b[0margs\u001b[0m\u001b[0;34m,\u001b[0m \u001b[0;34m**\u001b[0m\u001b[0mkwargs\u001b[0m\u001b[0;34m)\u001b[0m\u001b[0;34m\u001b[0m\u001b[0;34m\u001b[0m\u001b[0m\n\u001b[0m\u001b[1;32m    332\u001b[0m \u001b[0;34m\u001b[0m\u001b[0m\n\u001b[1;32m    333\u001b[0m         \u001b[0;31m# error: \"Callable[[VarArg(Any), KwArg(Any)], Any]\" has no\u001b[0m\u001b[0;34m\u001b[0m\u001b[0;34m\u001b[0m\u001b[0m\n",
            "\u001b[0;32m/usr/local/lib/python3.10/dist-packages/pandas/core/frame.py\u001b[0m in \u001b[0;36mfillna\u001b[0;34m(self, value, method, axis, inplace, limit, downcast)\u001b[0m\n\u001b[1;32m   5633\u001b[0m         \u001b[0mdowncast\u001b[0m\u001b[0;34m:\u001b[0m \u001b[0mdict\u001b[0m \u001b[0;34m|\u001b[0m \u001b[0;32mNone\u001b[0m \u001b[0;34m=\u001b[0m \u001b[0;32mNone\u001b[0m\u001b[0;34m,\u001b[0m\u001b[0;34m\u001b[0m\u001b[0;34m\u001b[0m\u001b[0m\n\u001b[1;32m   5634\u001b[0m     ) -> DataFrame | None:\n\u001b[0;32m-> 5635\u001b[0;31m         return super().fillna(\n\u001b[0m\u001b[1;32m   5636\u001b[0m             \u001b[0mvalue\u001b[0m\u001b[0;34m=\u001b[0m\u001b[0mvalue\u001b[0m\u001b[0;34m,\u001b[0m\u001b[0;34m\u001b[0m\u001b[0;34m\u001b[0m\u001b[0m\n\u001b[1;32m   5637\u001b[0m             \u001b[0mmethod\u001b[0m\u001b[0;34m=\u001b[0m\u001b[0mmethod\u001b[0m\u001b[0;34m,\u001b[0m\u001b[0;34m\u001b[0m\u001b[0;34m\u001b[0m\u001b[0m\n",
            "\u001b[0;32m/usr/local/lib/python3.10/dist-packages/pandas/core/generic.py\u001b[0m in \u001b[0;36mfillna\u001b[0;34m(self, value, method, axis, inplace, limit, downcast)\u001b[0m\n\u001b[1;32m   6920\u001b[0m                 \u001b[0;32melse\u001b[0m\u001b[0;34m:\u001b[0m\u001b[0;34m\u001b[0m\u001b[0;34m\u001b[0m\u001b[0m\n\u001b[1;32m   6921\u001b[0m \u001b[0;34m\u001b[0m\u001b[0m\n\u001b[0;32m-> 6922\u001b[0;31m                     new_data = self._mgr.fillna(\n\u001b[0m\u001b[1;32m   6923\u001b[0m                         \u001b[0mvalue\u001b[0m\u001b[0;34m=\u001b[0m\u001b[0mvalue\u001b[0m\u001b[0;34m,\u001b[0m \u001b[0mlimit\u001b[0m\u001b[0;34m=\u001b[0m\u001b[0mlimit\u001b[0m\u001b[0;34m,\u001b[0m \u001b[0minplace\u001b[0m\u001b[0;34m=\u001b[0m\u001b[0minplace\u001b[0m\u001b[0;34m,\u001b[0m \u001b[0mdowncast\u001b[0m\u001b[0;34m=\u001b[0m\u001b[0mdowncast\u001b[0m\u001b[0;34m\u001b[0m\u001b[0;34m\u001b[0m\u001b[0m\n\u001b[1;32m   6924\u001b[0m                     )\n",
            "\u001b[0;32m/usr/local/lib/python3.10/dist-packages/pandas/core/internals/managers.py\u001b[0m in \u001b[0;36mfillna\u001b[0;34m(self, value, limit, inplace, downcast)\u001b[0m\n\u001b[1;32m    441\u001b[0m                 \u001b[0mself\u001b[0m \u001b[0;34m=\u001b[0m \u001b[0mself\u001b[0m\u001b[0;34m.\u001b[0m\u001b[0mcopy\u001b[0m\u001b[0;34m(\u001b[0m\u001b[0;34m)\u001b[0m\u001b[0;34m\u001b[0m\u001b[0;34m\u001b[0m\u001b[0m\n\u001b[1;32m    442\u001b[0m \u001b[0;34m\u001b[0m\u001b[0m\n\u001b[0;32m--> 443\u001b[0;31m         return self.apply(\n\u001b[0m\u001b[1;32m    444\u001b[0m             \u001b[0;34m\"fillna\"\u001b[0m\u001b[0;34m,\u001b[0m \u001b[0mvalue\u001b[0m\u001b[0;34m=\u001b[0m\u001b[0mvalue\u001b[0m\u001b[0;34m,\u001b[0m \u001b[0mlimit\u001b[0m\u001b[0;34m=\u001b[0m\u001b[0mlimit\u001b[0m\u001b[0;34m,\u001b[0m \u001b[0minplace\u001b[0m\u001b[0;34m=\u001b[0m\u001b[0minplace\u001b[0m\u001b[0;34m,\u001b[0m \u001b[0mdowncast\u001b[0m\u001b[0;34m=\u001b[0m\u001b[0mdowncast\u001b[0m\u001b[0;34m\u001b[0m\u001b[0;34m\u001b[0m\u001b[0m\n\u001b[1;32m    445\u001b[0m         )\n",
            "\u001b[0;32m/usr/local/lib/python3.10/dist-packages/pandas/core/internals/managers.py\u001b[0m in \u001b[0;36mapply\u001b[0;34m(self, f, align_keys, ignore_failures, **kwargs)\u001b[0m\n\u001b[1;32m    350\u001b[0m                     \u001b[0mapplied\u001b[0m \u001b[0;34m=\u001b[0m \u001b[0mb\u001b[0m\u001b[0;34m.\u001b[0m\u001b[0mapply\u001b[0m\u001b[0;34m(\u001b[0m\u001b[0mf\u001b[0m\u001b[0;34m,\u001b[0m \u001b[0;34m**\u001b[0m\u001b[0mkwargs\u001b[0m\u001b[0;34m)\u001b[0m\u001b[0;34m\u001b[0m\u001b[0;34m\u001b[0m\u001b[0m\n\u001b[1;32m    351\u001b[0m                 \u001b[0;32melse\u001b[0m\u001b[0;34m:\u001b[0m\u001b[0;34m\u001b[0m\u001b[0;34m\u001b[0m\u001b[0m\n\u001b[0;32m--> 352\u001b[0;31m                     \u001b[0mapplied\u001b[0m \u001b[0;34m=\u001b[0m \u001b[0mgetattr\u001b[0m\u001b[0;34m(\u001b[0m\u001b[0mb\u001b[0m\u001b[0;34m,\u001b[0m \u001b[0mf\u001b[0m\u001b[0;34m)\u001b[0m\u001b[0;34m(\u001b[0m\u001b[0;34m**\u001b[0m\u001b[0mkwargs\u001b[0m\u001b[0;34m)\u001b[0m\u001b[0;34m\u001b[0m\u001b[0;34m\u001b[0m\u001b[0m\n\u001b[0m\u001b[1;32m    353\u001b[0m             \u001b[0;32mexcept\u001b[0m \u001b[0;34m(\u001b[0m\u001b[0mTypeError\u001b[0m\u001b[0;34m,\u001b[0m \u001b[0mNotImplementedError\u001b[0m\u001b[0;34m)\u001b[0m\u001b[0;34m:\u001b[0m\u001b[0;34m\u001b[0m\u001b[0;34m\u001b[0m\u001b[0m\n\u001b[1;32m    354\u001b[0m                 \u001b[0;32mif\u001b[0m \u001b[0;32mnot\u001b[0m \u001b[0mignore_failures\u001b[0m\u001b[0;34m:\u001b[0m\u001b[0;34m\u001b[0m\u001b[0;34m\u001b[0m\u001b[0m\n",
            "\u001b[0;32m/usr/local/lib/python3.10/dist-packages/pandas/core/internals/blocks.py\u001b[0m in \u001b[0;36mfillna\u001b[0;34m(self, value, limit, inplace, downcast)\u001b[0m\n\u001b[1;32m   1175\u001b[0m             \u001b[0mnoop\u001b[0m \u001b[0;34m=\u001b[0m \u001b[0;32mTrue\u001b[0m\u001b[0;34m\u001b[0m\u001b[0;34m\u001b[0m\u001b[0m\n\u001b[1;32m   1176\u001b[0m         \u001b[0;32melse\u001b[0m\u001b[0;34m:\u001b[0m\u001b[0;34m\u001b[0m\u001b[0;34m\u001b[0m\u001b[0m\n\u001b[0;32m-> 1177\u001b[0;31m             \u001b[0mmask\u001b[0m \u001b[0;34m=\u001b[0m \u001b[0misna\u001b[0m\u001b[0;34m(\u001b[0m\u001b[0mself\u001b[0m\u001b[0;34m.\u001b[0m\u001b[0mvalues\u001b[0m\u001b[0;34m)\u001b[0m\u001b[0;34m\u001b[0m\u001b[0;34m\u001b[0m\u001b[0m\n\u001b[0m\u001b[1;32m   1178\u001b[0m             \u001b[0mmask\u001b[0m\u001b[0;34m,\u001b[0m \u001b[0mnoop\u001b[0m \u001b[0;34m=\u001b[0m \u001b[0mvalidate_putmask\u001b[0m\u001b[0;34m(\u001b[0m\u001b[0mself\u001b[0m\u001b[0;34m.\u001b[0m\u001b[0mvalues\u001b[0m\u001b[0;34m,\u001b[0m \u001b[0mmask\u001b[0m\u001b[0;34m)\u001b[0m\u001b[0;34m\u001b[0m\u001b[0;34m\u001b[0m\u001b[0m\n\u001b[1;32m   1179\u001b[0m \u001b[0;34m\u001b[0m\u001b[0m\n",
            "\u001b[0;32m/usr/local/lib/python3.10/dist-packages/pandas/core/dtypes/missing.py\u001b[0m in \u001b[0;36misna\u001b[0;34m(obj)\u001b[0m\n\u001b[1;32m    183\u001b[0m     \u001b[0mName\u001b[0m\u001b[0;34m:\u001b[0m \u001b[0;36m1\u001b[0m\u001b[0;34m,\u001b[0m \u001b[0mdtype\u001b[0m\u001b[0;34m:\u001b[0m \u001b[0mbool\u001b[0m\u001b[0;34m\u001b[0m\u001b[0;34m\u001b[0m\u001b[0m\n\u001b[1;32m    184\u001b[0m     \"\"\"\n\u001b[0;32m--> 185\u001b[0;31m     \u001b[0;32mreturn\u001b[0m \u001b[0m_isna\u001b[0m\u001b[0;34m(\u001b[0m\u001b[0mobj\u001b[0m\u001b[0;34m)\u001b[0m\u001b[0;34m\u001b[0m\u001b[0;34m\u001b[0m\u001b[0m\n\u001b[0m\u001b[1;32m    186\u001b[0m \u001b[0;34m\u001b[0m\u001b[0m\n\u001b[1;32m    187\u001b[0m \u001b[0;34m\u001b[0m\u001b[0m\n",
            "\u001b[0;32m/usr/local/lib/python3.10/dist-packages/pandas/core/dtypes/missing.py\u001b[0m in \u001b[0;36m_isna\u001b[0;34m(obj, inf_as_na)\u001b[0m\n\u001b[1;32m    212\u001b[0m         \u001b[0;32mreturn\u001b[0m \u001b[0;32mFalse\u001b[0m\u001b[0;34m\u001b[0m\u001b[0;34m\u001b[0m\u001b[0m\n\u001b[1;32m    213\u001b[0m     \u001b[0;32melif\u001b[0m \u001b[0misinstance\u001b[0m\u001b[0;34m(\u001b[0m\u001b[0mobj\u001b[0m\u001b[0;34m,\u001b[0m \u001b[0;34m(\u001b[0m\u001b[0mnp\u001b[0m\u001b[0;34m.\u001b[0m\u001b[0mndarray\u001b[0m\u001b[0;34m,\u001b[0m \u001b[0mABCExtensionArray\u001b[0m\u001b[0;34m)\u001b[0m\u001b[0;34m)\u001b[0m\u001b[0;34m:\u001b[0m\u001b[0;34m\u001b[0m\u001b[0;34m\u001b[0m\u001b[0m\n\u001b[0;32m--> 214\u001b[0;31m         \u001b[0;32mreturn\u001b[0m \u001b[0m_isna_array\u001b[0m\u001b[0;34m(\u001b[0m\u001b[0mobj\u001b[0m\u001b[0;34m,\u001b[0m \u001b[0minf_as_na\u001b[0m\u001b[0;34m=\u001b[0m\u001b[0minf_as_na\u001b[0m\u001b[0;34m)\u001b[0m\u001b[0;34m\u001b[0m\u001b[0;34m\u001b[0m\u001b[0m\n\u001b[0m\u001b[1;32m    215\u001b[0m     \u001b[0;32melif\u001b[0m \u001b[0misinstance\u001b[0m\u001b[0;34m(\u001b[0m\u001b[0mobj\u001b[0m\u001b[0;34m,\u001b[0m \u001b[0mABCIndex\u001b[0m\u001b[0;34m)\u001b[0m\u001b[0;34m:\u001b[0m\u001b[0;34m\u001b[0m\u001b[0;34m\u001b[0m\u001b[0m\n\u001b[1;32m    216\u001b[0m         \u001b[0;31m# Try to use cached isna, which also short-circuits for integer dtypes\u001b[0m\u001b[0;34m\u001b[0m\u001b[0;34m\u001b[0m\u001b[0m\n",
            "\u001b[0;32m/usr/local/lib/python3.10/dist-packages/pandas/core/dtypes/missing.py\u001b[0m in \u001b[0;36m_isna_array\u001b[0;34m(values, inf_as_na)\u001b[0m\n\u001b[1;32m    294\u001b[0m             \u001b[0mresult\u001b[0m \u001b[0;34m=\u001b[0m \u001b[0mvalues\u001b[0m\u001b[0;34m.\u001b[0m\u001b[0misna\u001b[0m\u001b[0;34m(\u001b[0m\u001b[0;34m)\u001b[0m  \u001b[0;31m# type: ignore[assignment]\u001b[0m\u001b[0;34m\u001b[0m\u001b[0;34m\u001b[0m\u001b[0m\n\u001b[1;32m    295\u001b[0m     \u001b[0;32melif\u001b[0m \u001b[0mis_string_or_object_np_dtype\u001b[0m\u001b[0;34m(\u001b[0m\u001b[0mvalues\u001b[0m\u001b[0;34m.\u001b[0m\u001b[0mdtype\u001b[0m\u001b[0;34m)\u001b[0m\u001b[0;34m:\u001b[0m\u001b[0;34m\u001b[0m\u001b[0;34m\u001b[0m\u001b[0m\n\u001b[0;32m--> 296\u001b[0;31m         \u001b[0mresult\u001b[0m \u001b[0;34m=\u001b[0m \u001b[0m_isna_string_dtype\u001b[0m\u001b[0;34m(\u001b[0m\u001b[0mvalues\u001b[0m\u001b[0;34m,\u001b[0m \u001b[0minf_as_na\u001b[0m\u001b[0;34m=\u001b[0m\u001b[0minf_as_na\u001b[0m\u001b[0;34m)\u001b[0m\u001b[0;34m\u001b[0m\u001b[0;34m\u001b[0m\u001b[0m\n\u001b[0m\u001b[1;32m    297\u001b[0m     \u001b[0;32melif\u001b[0m \u001b[0mneeds_i8_conversion\u001b[0m\u001b[0;34m(\u001b[0m\u001b[0mdtype\u001b[0m\u001b[0;34m)\u001b[0m\u001b[0;34m:\u001b[0m\u001b[0;34m\u001b[0m\u001b[0;34m\u001b[0m\u001b[0m\n\u001b[1;32m    298\u001b[0m         \u001b[0;31m# this is the NaT pattern\u001b[0m\u001b[0;34m\u001b[0m\u001b[0;34m\u001b[0m\u001b[0m\n",
            "\u001b[0;32m/usr/local/lib/python3.10/dist-packages/pandas/core/dtypes/missing.py\u001b[0m in \u001b[0;36m_isna_string_dtype\u001b[0;34m(values, inf_as_na)\u001b[0m\n\u001b[1;32m    318\u001b[0m             \u001b[0mresult\u001b[0m \u001b[0;34m=\u001b[0m \u001b[0mlibmissing\u001b[0m\u001b[0;34m.\u001b[0m\u001b[0misnaobj\u001b[0m\u001b[0;34m(\u001b[0m\u001b[0mvalues\u001b[0m\u001b[0;34m,\u001b[0m \u001b[0minf_as_na\u001b[0m\u001b[0;34m=\u001b[0m\u001b[0minf_as_na\u001b[0m\u001b[0;34m)\u001b[0m\u001b[0;34m\u001b[0m\u001b[0;34m\u001b[0m\u001b[0m\n\u001b[1;32m    319\u001b[0m         \u001b[0;32melif\u001b[0m \u001b[0mvalues\u001b[0m\u001b[0;34m.\u001b[0m\u001b[0mndim\u001b[0m \u001b[0;34m==\u001b[0m \u001b[0;36m2\u001b[0m\u001b[0;34m:\u001b[0m\u001b[0;34m\u001b[0m\u001b[0;34m\u001b[0m\u001b[0m\n\u001b[0;32m--> 320\u001b[0;31m             \u001b[0mresult\u001b[0m \u001b[0;34m=\u001b[0m \u001b[0mlibmissing\u001b[0m\u001b[0;34m.\u001b[0m\u001b[0misnaobj2d\u001b[0m\u001b[0;34m(\u001b[0m\u001b[0mvalues\u001b[0m\u001b[0;34m,\u001b[0m \u001b[0minf_as_na\u001b[0m\u001b[0;34m=\u001b[0m\u001b[0minf_as_na\u001b[0m\u001b[0;34m)\u001b[0m\u001b[0;34m\u001b[0m\u001b[0;34m\u001b[0m\u001b[0m\n\u001b[0m\u001b[1;32m    321\u001b[0m         \u001b[0;32melse\u001b[0m\u001b[0;34m:\u001b[0m\u001b[0;34m\u001b[0m\u001b[0;34m\u001b[0m\u001b[0m\n\u001b[1;32m    322\u001b[0m             \u001b[0;31m# 0-D, reached via e.g. mask_missing\u001b[0m\u001b[0;34m\u001b[0m\u001b[0;34m\u001b[0m\u001b[0m\n",
            "\u001b[0;31mKeyboardInterrupt\u001b[0m: "
          ]
        }
      ]
    },
    {
      "cell_type": "code",
      "source": [
        "class LOFactor():\n",
        "    def __init__(self):\n",
        "        # store f1 scores for visualization later\n",
        "        self.attack_f1 = dict()\n",
        "        self.model = LocalOutlierFactor(novelty=True)\n",
        "        self.model_name_ = 'Local Outlier Factor'\n",
        "\n",
        "    def fit(self, train_X):\n",
        "        self.model.fit(train_X)\n",
        "        print('Done')\n",
        "\n",
        "    def detect_anomalies(self, test_X, label, attack_name, print_report=True, return_preds=False):\n",
        "        # contam = label.sum()/label.shape[0] # get the fraction of anomalies\n",
        "        # make predictions and print classification\n",
        "        preds = self.model.predict(test_X)\n",
        "        preds = np.where(preds==1, 0, 1) # transform predictions\n",
        "        if print_report:\n",
        "            print(f'Performance of the {self.model_name_} approach on {attack_name}:')\n",
        "            print(classification_report(label, preds))\n",
        "\n",
        "        self.attack_f1[attack_name] = f1_score(label, preds) # store the f1 score\n",
        "\n",
        "        if return_preds: return preds\n",
        "\n",
        "    def chart_f1(self):\n",
        "        plt.figure(figsize=(13,5))\n",
        "        plt.title(f'F1 scores of the {self.model_name_} model on several attack types')\n",
        "        x, y = list(self.attack_f1.keys()), list(self.attack_f1.values())\n",
        "        ax = plt.bar(x, y)"
      ],
      "metadata": {
        "id": "dIkOmOTaxnvk"
      },
      "execution_count": 139,
      "outputs": []
    },
    {
      "cell_type": "markdown",
      "source": [
        "Note that the predictions of the Isolation Forest model had to be transformed like {-1:1, 1:0} because the `fit_predict` method of `sklearn.IsolationForest` returns -1 for anomalies and 1 for inliers. The transformation was necessary so that it could correspond to the label with 0 representing normal data and 1 representing anomalies."
      ],
      "metadata": {
        "id": "a8J1q8Ha90NR"
      }
    },
    {
      "cell_type": "code",
      "source": [
        "lof = LOFactor()\n",
        "lof.fit(utils2.train) # fit model"
      ],
      "metadata": {
        "id": "6w4J5LatGdHK",
        "colab": {
          "base_uri": "https://localhost:8080/"
        },
        "outputId": "81793ffb-1eb7-4493-9222-d0914770a77f"
      },
      "execution_count": 15,
      "outputs": [
        {
          "output_type": "stream",
          "name": "stdout",
          "text": [
            "Done\n"
          ]
        }
      ]
    },
    {
      "cell_type": "markdown",
      "source": [
        "Let's test the density-based approach"
      ],
      "metadata": {
        "id": "grWk9K3yVp4a"
      }
    },
    {
      "cell_type": "code",
      "source": [
        "test_approach(model=lof,\n",
        "              utils=utils2,\n",
        "              print_report=False)"
      ],
      "metadata": {
        "id": "u2wbbLWbVp4q"
      },
      "execution_count": null,
      "outputs": []
    },
    {
      "cell_type": "markdown",
      "source": [
        "## Approach 3: Anomaly detection using the latent representation of normal data\n",
        "Alsaade and Al-Adhaileh (2023) in \"Cyber Attack Detection for Self-Driving Vehicle Networks Using Deep Autoencoder Algorithms\" employ the autoencoder approach to solve the anomaly detection problem.\n",
        "\n",
        "Using an autoencoder, we train on only normal data. Predictions of abnormal data can be flagged because the error of reconstruction will usually be larger than the error reconstructing the normal data the model was trained on. This sounds like a good fit for the imbalance in the dataset.\n",
        "\n",
        "Let's define the `AutoEncoder` class."
      ],
      "metadata": {
        "id": "silptM7ZvEIV"
      }
    },
    {
      "cell_type": "code",
      "source": [
        "device = 'cuda:0' if T.cuda.is_available() else 'cpu' # choose the available device\n",
        "utils3 = CANUtils()"
      ],
      "metadata": {
        "id": "9FGmYk5oyILO"
      },
      "execution_count": 144,
      "outputs": []
    },
    {
      "cell_type": "code",
      "source": [
        "class AutoEncoder(T.nn.Module):\n",
        "    def __init__(self, size):\n",
        "        super().__init__()\n",
        "        self.fc1 = T.nn.Linear(size, 32)\n",
        "        self.fc2 = T.nn.Linear(32, 8)\n",
        "        self.fc3 = T.nn.Linear(8, 32)\n",
        "        self.fc4 = T.nn.Linear(32, size)\n",
        "        self.threshold = 0.0\n",
        "        self.model_name_ = 'Autoencoder'\n",
        "\n",
        "        # store f1 scores for visualization later\n",
        "        self.attack_f1 = dict()\n",
        "\n",
        "    def encode(self, x):\n",
        "        z = T.tanh(self.fc1(x))\n",
        "        z = T.tanh(self.fc2(z))\n",
        "        return z\n",
        "\n",
        "    def decode(self, x):\n",
        "        z = T.tanh(self.fc3(x))\n",
        "        z = T.sigmoid(self.fc4(z))\n",
        "        return z\n",
        "\n",
        "    def forward(self, x):\n",
        "        z = self.encode(x)\n",
        "        z = self.decode(z)\n",
        "        return z\n",
        "\n",
        "    def rec_error(self, data):\n",
        "        \"\"\"Compute the reconstruction error when a sample is passed through the autoencoder\"\"\"\n",
        "        # diff = autoenc(T.Tensor(data.values)).detach().numpy() - data.values\n",
        "        input = T.Tensor(data.values).to(device)\n",
        "        diff = (autoenc(input) - input).cpu().detach().numpy()\n",
        "        error = np.mean(np.power(diff, 2), axis=1) # scalar error of reconstruction\n",
        "        return error\n",
        "\n",
        "    def set_threshold(self, value):\n",
        "        self.threshold = value\n",
        "\n",
        "    def zscore_threshold(self, input):\n",
        "        \"\"\"Compute the threshold as 1 z-score from the reconstruction errors of training data\"\"\"\n",
        "        errors = self.rec_error(input) # compute errors of reconstruction\n",
        "\n",
        "        self.set_threshold(np.mean(errors) + np.std(errors)) # set threshold to 1 z-score\n",
        "\n",
        "    def fit(self, input, batch_size, epochs, log_interval, learning_rate):\n",
        "        # set up loader object\n",
        "        data_ldr = T.utils.data.DataLoader(T.Tensor(input.values).to(device),\n",
        "                                        batch_size=batch_size,\n",
        "                                        shuffle=True)\n",
        "\n",
        "        loss_func = T.nn.MSELoss() # mean squared error loss\n",
        "        opt = T.optim.SGD(self.parameters(), lr=learning_rate) # SGD optimizer\n",
        "\n",
        "        print(\"\\nStarting training\")\n",
        "        for epoch in tqdm(range(epochs)):\n",
        "            epoch_loss = 0.0 # reset loss\n",
        "            for (batch_idx, batch) in enumerate(data_ldr):\n",
        "                X = batch  # inputs\n",
        "                Y = batch  # targets (same as inputs)\n",
        "\n",
        "                opt.zero_grad() # prepare gradients\n",
        "                output = self(X) # compute output/target\n",
        "                loss_val = loss_func(output, Y) # compute loss/error\n",
        "                epoch_loss += loss_val.item() # accumulate for display\n",
        "                loss_val.backward() # compute gradients\n",
        "                opt.step() # update weights\n",
        "\n",
        "            if epoch % log_interval == 0:\n",
        "                print(\"epoch = %4d   loss = %0.4f\" % (epoch, epoch_loss))\n",
        "\n",
        "        self.zscore_threshold(input) # set the threshold using the training data\n",
        "        print(\"Training completed!\")\n",
        "\n",
        "    def detect_anomalies(self, data_X, label, attack_name, print_report=True, return_preds=False):\n",
        "        \"\"\"\n",
        "        Compute reconstruction error. If the error of a message exceeds the threshold\n",
        "        default of (1 z score), it is predicted as an anomaly\n",
        "        \"\"\"\n",
        "\n",
        "        errors = self.rec_error(data_X) # compute error of reconstruction\n",
        "        preds = np.where(errors > self.threshold, 1, 0) # calculate predictions\n",
        "        if print_report:\n",
        "            print(f'Performance of the {self.model_name_} on {attack_name} attack:')\n",
        "            print(classification_report(label, preds))\n",
        "\n",
        "        self.attack_f1[attack_name] = f1_score(label, preds) # store the f1 score\n",
        "\n",
        "        if return_preds: return preds\n",
        "\n",
        "    def chart_f1(self):\n",
        "        plt.figure(figsize=(13,5))\n",
        "        plt.title(f'F1 scores of the {self.model_name_} model on several attack types')\n",
        "        x, y = list(self.attack_f1.keys()), list(self.attack_f1.values())\n",
        "        ax = plt.bar(x, y)"
      ],
      "metadata": {
        "id": "wrO0zkQNw1zI"
      },
      "execution_count": 145,
      "outputs": []
    },
    {
      "cell_type": "markdown",
      "source": [
        "The `fit` method sets up the dataloader, loss function, optimizer and runs the training loop for the given number of epochs on the normal data.  \n",
        "To be able to determine anomalies, a threshold error value will be calculated. Let's define the threshold to be 1 z-score i.e one standard deviation from the mean of errors of reconstruction. A reconstruction with an error exceeding that value is thus an anomaly."
      ],
      "metadata": {
        "id": "lnLMkdItrekL"
      }
    },
    {
      "cell_type": "markdown",
      "source": [
        "Next, it is important that the autoencoder is just trained on only normal data so it only learns those patterns and not of the anomalies too. The `CANUtils().train` dataset contains only normal data so it will be used for training."
      ],
      "metadata": {
        "id": "qyA7TJJcnxTt"
      }
    },
    {
      "cell_type": "code",
      "source": [
        "input = utils3.train\n",
        "autoenc = AutoEncoder(size=input.shape[1]).to(device)"
      ],
      "metadata": {
        "id": "CXsid8jCvh7o"
      },
      "execution_count": 146,
      "outputs": []
    },
    {
      "cell_type": "markdown",
      "source": [
        "Uncomment and run the next cell if you wish to train the autoencoder from scratch and save the weights:"
      ],
      "metadata": {
        "id": "Ov5k5Bb6son2"
      }
    },
    {
      "cell_type": "code",
      "source": [
        "# autoenc.train() # set to train mode\n",
        "\n",
        "# autoenc.fit(input = utils3.train,\n",
        "#             batch_size = 32,\n",
        "#             epochs = 200,\n",
        "#             log_interval = 50,\n",
        "#             learning_rate = 3e-3\n",
        "#             ) # train the model\n",
        "\n",
        "# T.save(autoenc.state_dict(), 'can-autoencoder.pt') # save the model"
      ],
      "metadata": {
        "id": "iyTdqgUPWSEa",
        "colab": {
          "base_uri": "https://localhost:8080/"
        },
        "outputId": "3313bdde-02e8-4158-ce10-d4651f100131"
      },
      "execution_count": null,
      "outputs": [
        {
          "output_type": "execute_result",
          "data": {
            "text/plain": [
              "AutoEncoder(\n",
              "  (fc1): Linear(in_features=63, out_features=32, bias=True)\n",
              "  (fc2): Linear(in_features=32, out_features=8, bias=True)\n",
              "  (fc3): Linear(in_features=8, out_features=32, bias=True)\n",
              "  (fc4): Linear(in_features=32, out_features=63, bias=True)\n",
              ")"
            ]
          },
          "metadata": {},
          "execution_count": 48
        }
      ]
    },
    {
      "cell_type": "markdown",
      "source": [
        "Otherwise, reload the state dict from prior training and use that for the model. Run the next cell:"
      ],
      "metadata": {
        "id": "BAVLAkvFLEhX"
      }
    },
    {
      "cell_type": "code",
      "source": [
        "# load weights\n",
        "autoenc.load_state_dict(T.load('can-autoencoder.pt', map_location=device))\n",
        "\n",
        "# use 1 zscore of the input reconstruction errors array as the threshold\n",
        "autoenc.zscore_threshold(input)\n",
        "\n",
        "autoenc.eval() # set to eval mode"
      ],
      "metadata": {
        "colab": {
          "base_uri": "https://localhost:8080/"
        },
        "id": "zLAb8bYZqA5R",
        "outputId": "95dcba3b-8e02-4f3c-854c-67a134ec1bf6"
      },
      "execution_count": 147,
      "outputs": [
        {
          "output_type": "execute_result",
          "data": {
            "text/plain": [
              "AutoEncoder(\n",
              "  (fc1): Linear(in_features=63, out_features=32, bias=True)\n",
              "  (fc2): Linear(in_features=32, out_features=8, bias=True)\n",
              "  (fc3): Linear(in_features=8, out_features=32, bias=True)\n",
              "  (fc4): Linear(in_features=32, out_features=63, bias=True)\n",
              ")"
            ]
          },
          "metadata": {},
          "execution_count": 147
        }
      ]
    },
    {
      "cell_type": "code",
      "source": [
        "test_approach(model=autoenc,\n",
        "              utils=utils3,\n",
        "              print_report=True)"
      ],
      "metadata": {
        "colab": {
          "base_uri": "https://localhost:8080/",
          "height": 1000
        },
        "id": "4rVNBYoD6M5i",
        "outputId": "062b373f-280d-4752-a48d-5caffbfd4c4d"
      },
      "execution_count": 148,
      "outputs": [
        {
          "output_type": "stream",
          "name": "stdout",
          "text": [
            "Performance of the Autoencoder on Diagnostic attack:\n",
            "              precision    recall  f1-score   support\n",
            "\n",
            "           0       1.00      0.88      0.94    115971\n",
            "           1       0.00      0.00      0.00        10\n",
            "\n",
            "    accuracy                           0.88    115981\n",
            "   macro avg       0.50      0.44      0.47    115981\n",
            "weighted avg       1.00      0.88      0.94    115981\n",
            "\n",
            "Predictions for Diagnostic attack:\n",
            "Counter({0: 102344, 1: 13637})\n",
            "\n",
            "=================================================================\n",
            "Performance of the Autoencoder on Denial of Service attack:\n",
            "              precision    recall  f1-score   support\n",
            "\n",
            "           0       0.69      0.88      0.77    101926\n",
            "           1       0.00      0.00      0.00     40001\n",
            "\n",
            "    accuracy                           0.63    141927\n",
            "   macro avg       0.35      0.44      0.39    141927\n",
            "weighted avg       0.50      0.63      0.56    141927\n",
            "\n",
            "Predictions for Denial of Service attack:\n",
            "Counter({0: 129509, 1: 12418})\n",
            "\n",
            "=================================================================\n",
            "Performance of the Autoencoder on CAN ID Fuzzing attack:\n",
            "              precision    recall  f1-score   support\n",
            "\n",
            "           0       1.00      0.88      0.94    115971\n",
            "           1       0.00      0.00      0.00        10\n",
            "\n",
            "    accuracy                           0.88    115981\n",
            "   macro avg       0.50      0.44      0.47    115981\n",
            "weighted avg       1.00      0.88      0.94    115981\n",
            "\n",
            "Predictions for CAN ID Fuzzing attack:\n",
            "Counter({0: 102344, 1: 13637})\n",
            "\n",
            "=================================================================\n",
            "Performance of the Autoencoder on CAN Payload Fuzzing attack:\n",
            "              precision    recall  f1-score   support\n",
            "\n",
            "           0       1.00      0.88      0.94    115961\n",
            "           1       0.00      1.00      0.00        10\n",
            "\n",
            "    accuracy                           0.88    115971\n",
            "   macro avg       0.50      0.94      0.47    115971\n",
            "weighted avg       1.00      0.88      0.94    115971\n",
            "\n",
            "Predictions for CAN Payload Fuzzing attack:\n",
            "Counter({0: 102324, 1: 13647})\n",
            "\n",
            "=================================================================\n",
            "Performance of the Autoencoder on Replay attack:\n",
            "              precision    recall  f1-score   support\n",
            "\n",
            "           0       1.00      0.88      0.94    115882\n",
            "           1       0.00      0.38      0.01       120\n",
            "\n",
            "    accuracy                           0.88    116002\n",
            "   macro avg       0.50      0.63      0.47    116002\n",
            "weighted avg       1.00      0.88      0.94    116002\n",
            "\n",
            "Predictions for Replay attack:\n",
            "Counter({0: 102334, 1: 13668})\n",
            "\n",
            "=================================================================\n",
            "Performance of the Autoencoder on Suspension attack:\n",
            "              precision    recall  f1-score   support\n",
            "\n",
            "           0       0.88      0.88      0.88    101919\n",
            "           1       0.07      0.07      0.07     13553\n",
            "\n",
            "    accuracy                           0.78    115472\n",
            "   macro avg       0.47      0.47      0.47    115472\n",
            "weighted avg       0.78      0.78      0.78    115472\n",
            "\n",
            "Predictions for Suspension attack:\n",
            "Counter({0: 102334, 1: 13138})\n",
            "\n",
            "=================================================================\n",
            "\n",
            "F1 Scores of the Autoencoder approach:\n",
            "Diagnostic          : 0.0\n",
            "Denial of Service   : 0.0\n",
            "CAN ID Fuzzing      : 0.0\n",
            "CAN Payload Fuzzing : 0.00146\n",
            "Replay              : 0.00653\n",
            "Suspension          : 0.06849\n",
            "\n"
          ]
        },
        {
          "output_type": "display_data",
          "data": {
            "text/plain": [
              "<Figure size 1300x500 with 1 Axes>"
            ],
            "image/png": "[encoded data removed]"
          },
          "metadata": {}
        }
      ]
    },
    {
      "cell_type": "markdown",
      "source": [
        "## Conclusion\n",
        "We have seen the results of the three approaches on anomaly detection. Several other methods exist. Some research papers use Long Short Term Memory (LSTM) and/or ConvNet architecture in place of Autoencoders, message intervals in place of frequency detection, support vectors instead of tree-based estimation and so on. Perhaps it is a good idea to build a classifier? Several roads lead to the market.\n",
        "\n",
        "One thing that can be improved on in the various approaches above is hyperparameter tuning for the two machine learning approaches and a search across different threshold values for the frequency detection approach."
      ],
      "metadata": {
        "id": "7F05-fxRkVZh"
      }
    },
    {
      "cell_type": "markdown",
      "source": [
        "__________"
      ],
      "metadata": {
        "id": "LquYoOxlOoon"
      }
    },
    {
      "cell_type": "markdown",
      "source": [
        "## References\n",
        "Alsaade, F. W., & Al-Adhaileh, M. H. (2023). Cyber Attack Detection for Self-Driving Vehicle Networks Using Deep Autoencoder Algorithms. Sensors, 23(8), 4086. https://doi.org/10.3390/s23084086\n",
        "\n",
        "Liu, F. T., Ting, K. M., & Zhou, Z.-H. (2008). Isolation Forest. IEEE International Conference on Data Mining.\n",
        "\n",
        "Narayanan, Sandeep & Mittal, Sudip & Joshi, Anupam. (2016). OBD_SecureAlert: An Anomaly Detection System for Vehicles. 1-6. 10.1109/SMARTCOMP.2016.7501710.\n",
        "\n",
        "sklearn.ensemble.IsolationForest. (2023). Retrieved August 2, 2023, from scikit-learn website: https://scikit-learn.org/stable/modules/generated/sklearn.ensemble.IsolationForest.html\n",
        "\n",
        "Young, Clinton & Olufowobi, Habeeb & Bloom, Gedare & Zambreno, Joseph. (2019). Automotive Intrusion Detection Based on Constant CAN Message Frequencies Across Vehicle Driving Modes. 9-14. 10.1145/3309171.3309179.\n",
        "\n",
        "Zhou, Li, & Shen. (2019). Anomaly Detection of CAN Bus Messages Using A Deep Neural Network for Autonomous Vehicles. Applied Sciences, 9(15), 3174. https://doi.org/10.3390/app9153174"
      ],
      "metadata": {
        "id": "c3EL5d8PAhdi"
      }
    }
  ]
}